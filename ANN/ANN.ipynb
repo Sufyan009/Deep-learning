{
 "cells": [
  {
   "cell_type": "markdown",
   "id": "54e12d0e-90e9-45ed-86eb-9e3ac41b22fa",
   "metadata": {},
   "source": [
    "### 1. Neurons and Artificial Neural Networks\n",
    "An artificial neural network (ANN) is a computational model inspired by the way biological neurons process information. In ANNs, the building block is a **neuron** (also called a **node** or **perceptron**), which receives inputs, applies weights, biases, and an activation function, and produces an output.\n",
    "\n",
    "#### Mathematical Representation of a Neuron\n",
    "A neuron computes a weighted sum of its inputs, applies an activation function, and outputs the result:\n",
    "\n",
    "\\[\n",
    "y = f\\left(\\sum_{i=1}^{n} w_i x_i + b\\right)\n",
    "\\]\n",
    "\n",
    "- \\( x_i \\): Input features\n",
    "- \\( w_i \\): Weight corresponding to each input\n",
    "- \\( b \\): Bias term\n",
    "- \\( f \\): Activation function\n",
    "\n",
    "The neuron adjusts the weights and bias through learning, using methods like **backpropagation**.\n",
    "\n",
    "### 2. Activation Functions\n",
    "Activation functions introduce non-linearity to the model, allowing the network to learn complex patterns. Here are the commonly used activation functions:\n",
    "\n",
    "#### a) Sigmoid Function\n",
    "The **sigmoid** activation function maps any input to a value between 0 and 1:\n",
    "\n",
    "\\[\n",
    "\\sigma(x) = \\frac{1}{1 + e^{-x}}\n",
    "\\]\n",
    "\n",
    "- **Usage**: Often used in binary classification tasks.\n",
    "- **Properties**: Smooth curve, but suffers from vanishing gradients for large positive/negative values.\n",
    "\n",
    "#### Python Code for Sigmoid Activation\n",
    "```python\n",
    "import numpy as np\n",
    "\n",
    "def sigmoid(x):\n",
    "    return 1 / (1 + np.exp(-x))\n",
    "```\n",
    "\n",
    "#### b) Tanh Function\n",
    "The **tanh** function scales inputs to a range between -1 and 1:\n",
    "\n",
    "\\[\n",
    "\\text{tanh}(x) = \\frac{e^x - e^{-x}}{e^x + e^{-x}}\n",
    "\\]\n",
    "\n",
    "- **Usage**: Suitable for hidden layers.\n",
    "- **Properties**: Centered around zero, but can still suffer from vanishing gradients for large values.\n",
    "\n",
    "#### Python Code for Tanh Activation\n",
    "```python\n",
    "def tanh(x):\n",
    "    return np.tanh(x)\n",
    "```\n",
    "\n",
    "#### c) ReLU (Rectified Linear Unit)\n",
    "The **ReLU** function is defined as:\n",
    "\n",
    "\\[\n",
    "\\text{ReLU}(x) = \\max(0, x)\n",
    "\\]\n",
    "\n",
    "- **Usage**: Common in hidden layers for deep networks.\n",
    "- **Properties**: Efficient and reduces vanishing gradients but can lead to “dead neurons” (where neurons stop updating).\n",
    "\n",
    "#### Python Code for ReLU Activation\n",
    "```python\n",
    "def relu(x):\n",
    "    return np.maximum(0, x)\n",
    "```\n",
    "\n",
    "### 3. Feedforward Neural Networks\n",
    "In a **feedforward neural network**, data flows from input to output without any cycles. The network consists of multiple layers:\n",
    "\n",
    "1. **Input Layer**: Receives initial data.\n",
    "2. **Hidden Layers**: Layers between input and output, where neurons process data.\n",
    "3. **Output Layer**: Produces the final result.\n",
    "\n",
    "#### Forward Pass Calculation\n",
    "For each layer \\( L \\):\n",
    "1. Compute \\( z^{(L)} = W^{(L)} \\cdot a^{(L-1)} + b^{(L)} \\)\n",
    "2. Apply the activation function to get \\( a^{(L)} = f(z^{(L)}) \\)\n",
    "\n",
    "---\n",
    "\n",
    "### 4. Backpropagation\n",
    "**Backpropagation** is an algorithm used to update the weights of the network, aiming to minimize the error.\n",
    "\n",
    "#### Steps of Backpropagation\n",
    "1. **Calculate the Loss**: Compute the error at the output layer using a loss function (e.g., mean squared error for regression or cross-entropy for classification).\n",
    "2. **Compute Gradients**:\n",
    "   - For each layer, compute the gradient of the loss with respect to weights and biases.\n",
    "3. **Update Weights**:\n",
    "   - Adjust weights in the opposite direction of the gradient (gradient descent).\n",
    "\n",
    "#### Backpropagation Mathematical Derivation\n",
    "For a single neuron, the loss with respect to a weight \\( w_i \\) is:\n",
    "\n",
    "\\[\n",
    "\\frac{\\partial \\text{Loss}}{\\partial w_i} = \\frac{\\partial \\text{Loss}}{\\partial y} \\cdot \\frac{\\partial y}{\\partial z} \\cdot \\frac{\\partial z}{\\partial w_i}\n",
    "\\]\n",
    "\n",
    "where:\n",
    "- \\( y = f(z) \\) and \\( z = \\sum w_i x_i + b \\).\n",
    "\n",
    "#### Python Code Example for Backpropagation (Simple Neural Network)\n",
    "This is a simplified example for two layers.\n",
    "\n",
    "```python\n",
    "import numpy as np\n",
    "\n",
    "# Sigmoid activation\n",
    "def sigmoid(x):\n",
    "    return 1 / (1 + np.exp(-x))\n",
    "\n",
    "# Derivative of sigmoid for backpropagation\n",
    "def sigmoid_derivative(x):\n",
    "    return x * (1 - x)\n",
    "\n",
    "# Loss function\n",
    "def mse_loss(y_true, y_pred):\n",
    "    return ((y_true - y_pred) ** 2).mean()\n",
    "\n",
    "# Simple neural network with 2 layers\n",
    "class NeuralNetwork:\n",
    "    def __init__(self):\n",
    "        # Initialize weights and biases\n",
    "        self.weights = np.random.rand(2, 1)\n",
    "        self.bias = np.random.rand(1)\n",
    "\n",
    "    def forward(self, X):\n",
    "        # Forward pass\n",
    "        self.input = X\n",
    "        self.z = np.dot(self.input, self.weights) + self.bias\n",
    "        self.output = sigmoid(self.z)\n",
    "        return self.output\n",
    "\n",
    "    def backward(self, X, y, output):\n",
    "        # Backward pass\n",
    "        d_loss_output = 2 * (output - y)\n",
    "        d_output_z = sigmoid_derivative(output)\n",
    "        d_z_weights = X\n",
    "\n",
    "        # Chain rule for gradient\n",
    "        d_loss_weights = d_z_weights.T.dot(d_loss_output * d_output_z)\n",
    "        d_loss_bias = np.sum(d_loss_output * d_output_z)\n",
    "\n",
    "        # Update weights and bias\n",
    "        self.weights -= 0.1 * d_loss_weights\n",
    "        self.bias -= 0.1 * d_loss_bias\n",
    "\n",
    "# Example usage\n",
    "nn = NeuralNetwork()\n",
    "X = np.array([[1, 2], [2, 3], [3, 4]])\n",
    "y = np.array([[0], [1], [0]])\n",
    "\n",
    "# Training loop\n",
    "for _ in range(1000):\n",
    "    output = nn.forward(X)\n",
    "    nn.backward(X, y, output)\n",
    "\n",
    "print(\"Predicted output after training:\")\n",
    "print(nn.forward(X))\n",
    "```\n",
    "\n",
    "---\n",
    "\n",
    "### 5. Vanishing and Exploding Gradients\n",
    "When training deep networks, gradients can become very small (vanishing) or very large (exploding), leading to training issues.\n",
    "\n",
    "#### Techniques to Address Gradient Problems\n",
    "1. **ReLU Activation**: Reduces vanishing gradients, as gradients do not diminish for positive inputs.\n",
    "2. **Batch Normalization**: Normalizes each layer’s input, helping control gradient size.\n",
    "3. **Weight Initialization**: Techniques like **Xavier** or **He initialization** adjust weights based on layer size to stabilize gradients.\n",
    "\n",
    "#### Example of Batch Normalization in Code\n",
    "```python\n",
    "import torch\n",
    "import torch.nn as nn\n",
    "\n",
    "# Define a model with batch normalization\n",
    "class Model(nn.Module):\n",
    "    def __init__(self):\n",
    "        super(Model, self).__init__()\n",
    "        self.fc1 = nn.Linear(128, 64)\n",
    "        self.bn1 = nn.BatchNorm1d(64)\n",
    "        self.fc2 = nn.Linear(64, 32)\n",
    "        self.bn2 = nn.BatchNorm1d(32)\n",
    "        self.fc3 = nn.Linear(32, 10)\n",
    "\n",
    "    def forward(self, x):\n",
    "        x = self.bn1(torch.relu(self.fc1(x)))\n",
    "        x = self.bn2(torch.relu(self.fc2(x)))\n",
    "        return self.fc3(x)\n",
    "```\n",
    "\n",
    "### Summary\n",
    "- **Neurons** process data through weights, biases, and activations.\n",
    "- **Activation Functions** introduce non-linearity.\n",
    "- **Feedforward Networks** allow data flow from input to output layers.\n",
    "- **Backpropagation** updates weights by minimizing loss.\n",
    "- **Gradient Issues** are addressed using ReLU, batch normalization, and weight initialization.\n",
    "\n",
    "This guide provides a foundational understanding of ANNs, key math concepts, and sample code to implement simple neural networks."
   ]
  },
  {
   "cell_type": "markdown",
   "id": "731baf3f-02aa-4983-ad4a-ab2b70bc5f44",
   "metadata": {},
   "source": [
    "**Coding a basic neuron**"
   ]
  },
  {
   "cell_type": "code",
   "execution_count": 1,
   "id": "6658c693-ac9a-4b18-8079-b26779e35d91",
   "metadata": {},
   "outputs": [],
   "source": [
    "import numpy as np\n",
    "import matplotlib.pyplot as plt"
   ]
  },
  {
   "cell_type": "code",
   "execution_count": 2,
   "id": "180ce53c-3856-4dc8-a994-bba715dc198d",
   "metadata": {},
   "outputs": [
    {
     "name": "stdout",
     "output_type": "stream",
     "text": [
      "3.2\n"
     ]
    }
   ],
   "source": [
    "inputs = [2,4,7]\n",
    "weights = [0.3, 0.5, -0.2]\n",
    "bias = 2\n",
    "\n",
    "output = inputs[0]*weights[0] + inputs[1]*weights[1] + inputs[2]*weights[2] + bias  \n",
    "print(output)"
   ]
  },
  {
   "cell_type": "code",
   "execution_count": 3,
   "id": "f7c6fc80-f358-4d53-80ea-1249470b633e",
   "metadata": {},
   "outputs": [
    {
     "name": "stdout",
     "output_type": "stream",
     "text": [
      "45\n"
     ]
    }
   ],
   "source": [
    "inputs = [1, 2,3,4]\n",
    "weights = [2,3,4,5]\n",
    "bias = 5\n",
    "output = inputs[0]*weights[0] + inputs[1]*weights[1] + inputs[2]*weights[2] + inputs[3]*weights[3] + bias  \n",
    "print(output)"
   ]
  },
  {
   "cell_type": "code",
   "execution_count": 4,
   "id": "0bbce227-55e1-4a1e-b78b-a6c78e195e64",
   "metadata": {},
   "outputs": [
    {
     "name": "stdout",
     "output_type": "stream",
     "text": [
      "[1, 2, 3, 4, 5, 6, 7, 8, 9, 10]\n",
      "[1, 2, 3, 4, 5, 6, 7, 8, 9, 10]\n",
      "395\n"
     ]
    }
   ],
   "source": [
    "inputs = weights = list(range(1,11))\n",
    "print(inputs)\n",
    "print(weights)\n",
    "bias = 10\n",
    "output = 0\n",
    "\n",
    "for i in range(len(inputs)):\n",
    "    output += inputs[i]*weights[i]\n",
    "    \n",
    "output += bias\n",
    "print(output)"
   ]
  },
  {
   "cell_type": "code",
   "execution_count": 5,
   "id": "35d07bb9-0a9d-441e-bdb6-e3da89fa6da0",
   "metadata": {},
   "outputs": [
    {
     "name": "stdout",
     "output_type": "stream",
     "text": [
      "395\n"
     ]
    }
   ],
   "source": [
    "output = np.dot(inputs, weights) +  bias\n",
    "print(output)"
   ]
  },
  {
   "cell_type": "markdown",
   "id": "4c444449-ab7e-4a9c-ba6d-d9a9d0fec564",
   "metadata": {},
   "source": [
    "**ReLU Activation**"
   ]
  },
  {
   "cell_type": "code",
   "execution_count": 6,
   "id": "0cd491d1-4fa9-4d1c-994a-ee1f6f29ca95",
   "metadata": {},
   "outputs": [
    {
     "name": "stdout",
     "output_type": "stream",
     "text": [
      "395\n"
     ]
    }
   ],
   "source": [
    "# y = max(0, x)\n",
    "Y = max(0, output)\n",
    "print(Y)"
   ]
  },
  {
   "cell_type": "code",
   "execution_count": 7,
   "id": "01ab92f6-d723-4e3c-ac7b-4c4b7da235fd",
   "metadata": {},
   "outputs": [
    {
     "name": "stdout",
     "output_type": "stream",
     "text": [
      "-14.0\n",
      "0\n"
     ]
    }
   ],
   "source": [
    "inputs = [-1, -2, -3, -4]\n",
    "weights = [0.2, 0.3, 0.4, 0.5]\n",
    "bias = -10\n",
    "\n",
    "output = inputs[0]*weights[0] + inputs[1]*weights[1] + inputs[2]*weights[2] + inputs[3]*weights[3] + bias  \n",
    "print(output)\n",
    "\n",
    "Y = max(0, output)\n",
    "\n",
    "print(Y)"
   ]
  },
  {
   "cell_type": "markdown",
   "id": "945b5098-f833-4e1a-8f4d-fc8242c725b5",
   "metadata": {},
   "source": [
    "**Coding the whole Neural network**"
   ]
  },
  {
   "cell_type": "code",
   "execution_count": 8,
   "id": "6ba79592-477d-46d0-944e-322d0ac0031b",
   "metadata": {},
   "outputs": [
    {
     "name": "stdout",
     "output_type": "stream",
     "text": [
      "[9 0 2]\n",
      "[0.97129945 0.99035082 0.4356208 ]\n",
      "19.612936685319724\n"
     ]
    }
   ],
   "source": [
    "inputs = np.random.randint(0, 10, 3)\n",
    "weights = np.random.random(3)\n",
    "bias = 10\n",
    "\n",
    "print(inputs)\n",
    "print(weights)\n",
    "\n",
    "output = np.dot(inputs, weights) + bias\n",
    "print(output)"
   ]
  },
  {
   "cell_type": "markdown",
   "id": "e18a34c5-9528-4c9f-a8ec-e5fc3b48ba48",
   "metadata": {},
   "source": [
    "**A layer is nothing but a collection of a neurons**"
   ]
  },
  {
   "cell_type": "code",
   "execution_count": 9,
   "id": "20d9ef2d-dad7-43f5-8e4b-8e5a3b9f7055",
   "metadata": {},
   "outputs": [
    {
     "name": "stdout",
     "output_type": "stream",
     "text": [
      "1.4 2.9999999999999996 4.0 4.6\n"
     ]
    }
   ],
   "source": [
    "inputs = [1, 2, 3]\n",
    "weights = [[0.1, 0.2, 0.3], [0.1, 0.4, 0.7], [0.4, 0.6, 0.8], [0.5, 0.7, 0.9]]\n",
    "\n",
    "output1 = inputs[0]*weights[0][0] + inputs[1]*weights[0][1] + inputs[2]*weights[0][2]\n",
    "output2 = inputs[0]*weights[1][0] + inputs[1]*weights[1][1] + inputs[2]*weights[1][2]\n",
    "output3 = inputs[0]*weights[2][0] + inputs[1]*weights[2][1] + inputs[2]*weights[2][2]\n",
    "output4 = inputs[0]*weights[3][0] + inputs[1]*weights[3][1] + inputs[2]*weights[3][2]\n",
    "\n",
    "print(output1, output2, output3, output4)\n",
    "\n",
    "\n",
    "#weights = np.array([[0.1, 0.2, 0.3], [0.1, 0.4, 0.7], [0.4, 0.6, 0.8], [0.5, 0.7, 0.9]])\n",
    "#print(weights.shape)"
   ]
  },
  {
   "cell_type": "code",
   "execution_count": 10,
   "id": "1d3acd39-652f-4c5d-a48a-efcf827f6485",
   "metadata": {},
   "outputs": [
    {
     "name": "stdout",
     "output_type": "stream",
     "text": [
      "[6.64231729 6.25960317 6.97438531 2.80126686]\n"
     ]
    }
   ],
   "source": [
    "inputs = np.random.randint(0, 10, 3)\n",
    "weights = np.random.random((4, 3)) #4 neurons , 3 weights for each neuron\n",
    "biases = np.random.randint(0, 5, 4)\n",
    "\n",
    "output = np.dot(inputs, weights.T) + biases #columns of first = row of the second matrix\n",
    "print(output)"
   ]
  },
  {
   "cell_type": "code",
   "execution_count": 11,
   "id": "710d4c98-6d82-4625-a807-c6e6ea4e9ae2",
   "metadata": {},
   "outputs": [
    {
     "name": "stdout",
     "output_type": "stream",
     "text": [
      "[ 4.09349015 14.95470095  9.1373299  12.28096295]\n",
      "[25.59928725 10.92104233 13.97595039]\n"
     ]
    }
   ],
   "source": [
    "inputs = np.random.randint(0, 10, 3)\n",
    "weights1 = np.random.random((4, 3)) #4 neurons , 3 weights for each neuron\n",
    "biases1 = np.random.randint(0, 5, 4)  #for layer 1\n",
    "\n",
    "output1 = np.dot(inputs, weights1.T) + biases1 #columns of first = row of the second matrix\n",
    "print(output1)\n",
    "\n",
    "weights2 = np.random.random((3, 4))\n",
    "biases2 = np.random.randint(0,5,3)  \n",
    "output2 = np.dot(output1, weights2.T) + biases2\n",
    "print(output2)"
   ]
  },
  {
   "cell_type": "markdown",
   "id": "d6503715-749e-44c5-a790-97702bd8555d",
   "metadata": {},
   "source": [
    "**Neural Network**"
   ]
  },
  {
   "cell_type": "code",
   "execution_count": 12,
   "id": "6e284809-8747-492e-b687-cb9e82496448",
   "metadata": {},
   "outputs": [
    {
     "name": "stdout",
     "output_type": "stream",
     "text": [
      "[11.09615873  4.84640724  6.49305922  4.67976688]\n",
      "[19.87036001  9.24939178 13.65774268]\n",
      "[24.88838244 38.86228787]\n",
      "[13.04578087]\n"
     ]
    }
   ],
   "source": [
    "class Layer:\n",
    "    def __init__(self, n_inputs, n_neurons): # weights , biases\n",
    "        self.weights = np.random.random((n_neurons, n_inputs))\n",
    "        self.biases = np.random.randint(0, 10, n_neurons)\n",
    "    def forward(self, inputs):\n",
    "        self.output = np.dot(inputs, self.weights.T) + self.biases\n",
    "\n",
    "inputs = [1,2,3]\n",
    "layer1 = Layer(3, 4)\n",
    "\n",
    "layer1.forward(inputs)\n",
    "print(layer1.output)\n",
    "\n",
    "layer2 = Layer(4, 3)\n",
    "layer2.forward(layer1.output)\n",
    "print(layer2.output)\n",
    "\n",
    "layer3 = Layer(3, 2)\n",
    "layer3.forward(layer2.output)\n",
    "print(layer3.output)\n",
    "\n",
    "layer4 = Layer(2, 1)\n",
    "layer4.forward(layer3.output)\n",
    "print(layer4.output)"
   ]
  },
  {
   "cell_type": "markdown",
   "id": "bbeca1db-935c-4872-9fc3-b5bda293f7ad",
   "metadata": {},
   "source": [
    "**Neural Network with Batch of inputs**"
   ]
  },
  {
   "cell_type": "code",
   "execution_count": 13,
   "id": "8f6e52be-45f4-4b4b-b8c9-328678301363",
   "metadata": {},
   "outputs": [
    {
     "name": "stdout",
     "output_type": "stream",
     "text": [
      "(3, 3)\n"
     ]
    }
   ],
   "source": [
    "inputs = np.array([[1,2,3], [4,5,6], [7,8,9]])\n",
    "print(inputs.shape)\n"
   ]
  },
  {
   "cell_type": "code",
   "execution_count": 14,
   "id": "a32f1488-5f36-40b6-bc6f-fd9b02c18be8",
   "metadata": {},
   "outputs": [
    {
     "name": "stdout",
     "output_type": "stream",
     "text": [
      "[[ 5.05399325  6.41838886  8.90452349  9.392316  ]\n",
      " [ 9.52774586 11.49509179 15.6152749  14.92302766]\n",
      " [14.00149847 16.57179473 22.32602631 20.45373932]]\n"
     ]
    }
   ],
   "source": [
    "weights = np.random.random((4,3))\n",
    "biases = [2, 3,4, 5]\n",
    "\n",
    "output = np.dot(inputs, weights.T) + biases\n",
    "print(output)"
   ]
  },
  {
   "cell_type": "markdown",
   "id": "faa57814-d3d6-4bcf-ae06-43d85a9446e9",
   "metadata": {},
   "source": [
    "**Sigmoid Function**\n",
    "\n",
    "def sigmoid(x):\n",
    "    \"\"\"\n",
    "    Computes the sigmoid function and its derivative for a given input.\n",
    "\n",
    "    Args:\n",
    "        x: Input value.\n",
    "\n",
    "    Returns:\n",
    "        A tuple containing the sigmoid function value and its derivative.\n",
    "    \"\"\"\n",
    "\n",
    "    sigmoid = 1 / (1 + np.exp(-x))\n",
    "    derivative = sigmoid * (1 - sigmoid)\n",
    "    return sigmoid, derivative"
   ]
  },
  {
   "cell_type": "code",
   "execution_count": 15,
   "id": "4575590a-a78a-46ff-809e-6a4f15e4939f",
   "metadata": {},
   "outputs": [],
   "source": [
    "def sig(x):\n",
    "    s = (1/(1+np.exp(-x))) # Sigmoid Function\n",
    "    ds = s*(1-s) #Derivative\n",
    "    return s,ds"
   ]
  },
  {
   "cell_type": "code",
   "execution_count": 16,
   "id": "8042cdef-b2e6-4f48-b3fa-259ac3001b47",
   "metadata": {},
   "outputs": [
    {
     "data": {
      "image/png": "[encoded data removed]",
      "text/plain": [
       "<Figure size 900x500 with 1 Axes>"
      ]
     },
     "metadata": {},
     "output_type": "display_data"
    }
   ],
   "source": [
    "x = np.arange(-6,6, 0.01)\n",
    "\n",
    "# Plotting\n",
    "fig, ax = plt.subplots(figsize=(9, 5))\n",
    "\n",
    "# Customize axes and ticks\n",
    "ax.spines['left'].set_position('center')\n",
    "ax.spines['right'].set_color('none')\n",
    "ax.spines['top'].set_color('none')\n",
    "ax.xaxis.set_ticks_position('bottom')\n",
    "ax.yaxis.set_ticks_position('left')\n",
    "\n",
    "# Plot the sigmoid function and its derivative\n",
    "ax.plot(x, sig(x)[0], color=\"#307EC7\", linewidth=3, label=\"sigmoid\")\n",
    "ax.plot(x, sig(x)[1], color=\"#9621E2\", linewidth=3, label=\"derivative\")\n",
    "\n",
    "# Add legend and show the plot\n",
    "ax.legend(loc=\"upper left\", frameon=False)\n",
    "plt.show()"
   ]
  },
  {
   "cell_type": "markdown",
   "id": "3d1d9247-8798-487f-8c56-36aa492014c3",
   "metadata": {},
   "source": [
    "| Feature | Pros | Cons |\n",
    "|---|---|---|\n",
    "| Sigmoid | Smooth gradient, Bounded output, Differentiable | Vanishing gradient, Not zero-centered output, Computational cost |\n",
    "| ReLU | Efficient, No vanishing gradient | Dying ReLU problem |\n",
    "| Leaky ReLU | Addresses dying ReLU | Less smooth gradient than ReLU |\n",
    "| ELU | Combines ReLU and Leaky ReLU | More complex to compute |\n",
    "| tanh | Zero-centered output | Less smooth gradient than ReLU |\n",
    "\n",
    "**Choosing the Right Activation Function:**\n",
    "\n",
    "* **Complexity of the Problem:** Simpler problems may benefit from sigmoid or ReLU. More complex problems might require Leaky ReLU, ELU, or tanh.\n",
    "* **Network Architecture:** Deeper networks may benefit from ReLU or its variants to avoid vanishing gradients.\n",
    "* **Data Distribution:** The distribution of the input data can influence the choice of activation function.\n"
   ]
  },
  {
   "cell_type": "markdown",
   "id": "b2257f2c-8211-446c-983a-c0690f2dde82",
   "metadata": {},
   "source": [
    "**Tanh Activation Function**"
   ]
  },
  {
   "cell_type": "code",
   "execution_count": 17,
   "id": "b9aa24dd-34fb-4993-af82-d95a73b378ec",
   "metadata": {},
   "outputs": [
    {
     "data": {
      "image/png": "[encoded data removed]",
      "text/plain": [
       "<Figure size 640x480 with 1 Axes>"
      ]
     },
     "metadata": {},
     "output_type": "display_data"
    }
   ],
   "source": [
    "def tanh(x):\n",
    "  \"\"\"\n",
    "  Calculates the hyperbolic tangent of x.\n",
    "\n",
    "  Args:\n",
    "    x: Input value.\n",
    "\n",
    "  Returns:\n",
    "    The hyperbolic tangent of x.\n",
    "  \"\"\"\n",
    "\n",
    "  return (np.exp(x) - np.exp(-x)) / (np.exp(x) + np.exp(-x))\n",
    "\n",
    "def tanh_derivative(x):\n",
    "  \"\"\"\n",
    "  Calculates the derivative of the hyperbolic tangent of x.\n",
    "\n",
    "  Args:\n",
    "    x: Input value.\n",
    "\n",
    "  Returns:\n",
    "    The derivative of the hyperbolic tangent of x.\n",
    "  \"\"\"\n",
    "\n",
    "  return 1 - tanh(x)**2\n",
    "\n",
    "# Generate x values\n",
    "x = np.linspace(-5, 5, 100)\n",
    "\n",
    "# Calculate tanh(x) and its derivative\n",
    "y = tanh(x)\n",
    "y_derivative = tanh_derivative(x)\n",
    "\n",
    "# Plot the tanh function and its derivative\n",
    "plt.plot(x, y, label='tanh(x)')\n",
    "plt.plot(x, y_derivative, label='tanh\\'(x)')\n",
    "plt.xlabel('x')\n",
    "plt.ylabel('y')\n",
    "plt.title('Tanh Function and its Derivative')\n",
    "plt.legend()\n",
    "plt.grid(True)\n",
    "plt.show()"
   ]
  },
  {
   "cell_type": "markdown",
   "id": "b44a117b-c545-4874-8e60-4ff460480ee9",
   "metadata": {},
   "source": [
    "| Feature | Pros | Cons |\n",
    "|---|---|---|\n",
    "| Tanh | Zero-centered output, Smooth gradient, Alleviates vanishing gradient problem | Still susceptible to vanishing gradient for extreme input values, Less computationally efficient than ReLU |"
   ]
  },
  {
   "cell_type": "code",
   "execution_count": 18,
   "id": "9fe20739-cc0a-45f5-87ff-ee0fa34ba516",
   "metadata": {},
   "outputs": [],
   "source": [
    "import pandas as pd\n",
    "import numpy as np\n",
    "from sklearn.model_selection import train_test_split\n",
    "from sklearn.preprocessing import StandardScaler\n",
    "from sklearn.metrics import accuracy_score\n",
    "import tensorflow\n",
    "from tensorflow import keras\n",
    "from tensorflow.keras import Sequential\n",
    "from tensorflow.keras.layers import Dense"
   ]
  },
  {
   "cell_type": "code",
   "execution_count": 19,
   "id": "a136d013-cf40-47f8-ae36-ed9db3ccf664",
   "metadata": {},
   "outputs": [
    {
     "data": {
      "text/html": [
       "<div>\n",
       "<style scoped>\n",
       "    .dataframe tbody tr th:only-of-type {\n",
       "        vertical-align: middle;\n",
       "    }\n",
       "\n",
       "    .dataframe tbody tr th {\n",
       "        vertical-align: top;\n",
       "    }\n",
       "\n",
       "    .dataframe thead th {\n",
       "        text-align: right;\n",
       "    }\n",
       "</style>\n",
       "<table border=\"1\" class=\"dataframe\">\n",
       "  <thead>\n",
       "    <tr style=\"text-align: right;\">\n",
       "      <th></th>\n",
       "      <th>RowNumber</th>\n",
       "      <th>CustomerId</th>\n",
       "      <th>Surname</th>\n",
       "      <th>CreditScore</th>\n",
       "      <th>Geography</th>\n",
       "      <th>Gender</th>\n",
       "      <th>Age</th>\n",
       "      <th>Tenure</th>\n",
       "      <th>Balance</th>\n",
       "      <th>NumOfProducts</th>\n",
       "      <th>HasCrCard</th>\n",
       "      <th>IsActiveMember</th>\n",
       "      <th>EstimatedSalary</th>\n",
       "      <th>Exited</th>\n",
       "    </tr>\n",
       "  </thead>\n",
       "  <tbody>\n",
       "    <tr>\n",
       "      <th>0</th>\n",
       "      <td>1</td>\n",
       "      <td>15634602</td>\n",
       "      <td>Hargrave</td>\n",
       "      <td>619</td>\n",
       "      <td>France</td>\n",
       "      <td>Female</td>\n",
       "      <td>42</td>\n",
       "      <td>2</td>\n",
       "      <td>0.00</td>\n",
       "      <td>1</td>\n",
       "      <td>1</td>\n",
       "      <td>1</td>\n",
       "      <td>101348.88</td>\n",
       "      <td>1</td>\n",
       "    </tr>\n",
       "    <tr>\n",
       "      <th>1</th>\n",
       "      <td>2</td>\n",
       "      <td>15647311</td>\n",
       "      <td>Hill</td>\n",
       "      <td>608</td>\n",
       "      <td>Spain</td>\n",
       "      <td>Female</td>\n",
       "      <td>41</td>\n",
       "      <td>1</td>\n",
       "      <td>83807.86</td>\n",
       "      <td>1</td>\n",
       "      <td>0</td>\n",
       "      <td>1</td>\n",
       "      <td>112542.58</td>\n",
       "      <td>0</td>\n",
       "    </tr>\n",
       "    <tr>\n",
       "      <th>2</th>\n",
       "      <td>3</td>\n",
       "      <td>15619304</td>\n",
       "      <td>Onio</td>\n",
       "      <td>502</td>\n",
       "      <td>France</td>\n",
       "      <td>Female</td>\n",
       "      <td>42</td>\n",
       "      <td>8</td>\n",
       "      <td>159660.80</td>\n",
       "      <td>3</td>\n",
       "      <td>1</td>\n",
       "      <td>0</td>\n",
       "      <td>113931.57</td>\n",
       "      <td>1</td>\n",
       "    </tr>\n",
       "    <tr>\n",
       "      <th>3</th>\n",
       "      <td>4</td>\n",
       "      <td>15701354</td>\n",
       "      <td>Boni</td>\n",
       "      <td>699</td>\n",
       "      <td>France</td>\n",
       "      <td>Female</td>\n",
       "      <td>39</td>\n",
       "      <td>1</td>\n",
       "      <td>0.00</td>\n",
       "      <td>2</td>\n",
       "      <td>0</td>\n",
       "      <td>0</td>\n",
       "      <td>93826.63</td>\n",
       "      <td>0</td>\n",
       "    </tr>\n",
       "    <tr>\n",
       "      <th>4</th>\n",
       "      <td>5</td>\n",
       "      <td>15737888</td>\n",
       "      <td>Mitchell</td>\n",
       "      <td>850</td>\n",
       "      <td>Spain</td>\n",
       "      <td>Female</td>\n",
       "      <td>43</td>\n",
       "      <td>2</td>\n",
       "      <td>125510.82</td>\n",
       "      <td>1</td>\n",
       "      <td>1</td>\n",
       "      <td>1</td>\n",
       "      <td>79084.10</td>\n",
       "      <td>0</td>\n",
       "    </tr>\n",
       "  </tbody>\n",
       "</table>\n",
       "</div>"
      ],
      "text/plain": [
       "   RowNumber  CustomerId   Surname  CreditScore Geography  Gender  Age  \\\n",
       "0          1    15634602  Hargrave          619    France  Female   42   \n",
       "1          2    15647311      Hill          608     Spain  Female   41   \n",
       "2          3    15619304      Onio          502    France  Female   42   \n",
       "3          4    15701354      Boni          699    France  Female   39   \n",
       "4          5    15737888  Mitchell          850     Spain  Female   43   \n",
       "\n",
       "   Tenure    Balance  NumOfProducts  HasCrCard  IsActiveMember  \\\n",
       "0       2       0.00              1          1               1   \n",
       "1       1   83807.86              1          0               1   \n",
       "2       8  159660.80              3          1               0   \n",
       "3       1       0.00              2          0               0   \n",
       "4       2  125510.82              1          1               1   \n",
       "\n",
       "   EstimatedSalary  Exited  \n",
       "0        101348.88       1  \n",
       "1        112542.58       0  \n",
       "2        113931.57       1  \n",
       "3         93826.63       0  \n",
       "4         79084.10       0  "
      ]
     },
     "execution_count": 19,
     "metadata": {},
     "output_type": "execute_result"
    }
   ],
   "source": [
    "data = pd.read_csv('Churn_Modelling.csv')\n",
    "data.head()"
   ]
  },
  {
   "cell_type": "code",
   "execution_count": 20,
   "id": "2be9bf9f-5b1d-4392-92da-9a1ad606f3d8",
   "metadata": {},
   "outputs": [
    {
     "data": {
      "text/html": [
       "<div>\n",
       "<style scoped>\n",
       "    .dataframe tbody tr th:only-of-type {\n",
       "        vertical-align: middle;\n",
       "    }\n",
       "\n",
       "    .dataframe tbody tr th {\n",
       "        vertical-align: top;\n",
       "    }\n",
       "\n",
       "    .dataframe thead th {\n",
       "        text-align: right;\n",
       "    }\n",
       "</style>\n",
       "<table border=\"1\" class=\"dataframe\">\n",
       "  <thead>\n",
       "    <tr style=\"text-align: right;\">\n",
       "      <th></th>\n",
       "      <th>RowNumber</th>\n",
       "      <th>CustomerId</th>\n",
       "      <th>Surname</th>\n",
       "      <th>CreditScore</th>\n",
       "      <th>Geography</th>\n",
       "      <th>Gender</th>\n",
       "      <th>Age</th>\n",
       "      <th>Tenure</th>\n",
       "      <th>Balance</th>\n",
       "      <th>NumOfProducts</th>\n",
       "      <th>HasCrCard</th>\n",
       "      <th>IsActiveMember</th>\n",
       "      <th>EstimatedSalary</th>\n",
       "      <th>Exited</th>\n",
       "    </tr>\n",
       "  </thead>\n",
       "  <tbody>\n",
       "    <tr>\n",
       "      <th>0</th>\n",
       "      <td>1</td>\n",
       "      <td>15634602</td>\n",
       "      <td>Hargrave</td>\n",
       "      <td>619</td>\n",
       "      <td>France</td>\n",
       "      <td>Female</td>\n",
       "      <td>42</td>\n",
       "      <td>2</td>\n",
       "      <td>0.00</td>\n",
       "      <td>1</td>\n",
       "      <td>1</td>\n",
       "      <td>1</td>\n",
       "      <td>101348.88</td>\n",
       "      <td>1</td>\n",
       "    </tr>\n",
       "    <tr>\n",
       "      <th>1</th>\n",
       "      <td>2</td>\n",
       "      <td>15647311</td>\n",
       "      <td>Hill</td>\n",
       "      <td>608</td>\n",
       "      <td>Spain</td>\n",
       "      <td>Female</td>\n",
       "      <td>41</td>\n",
       "      <td>1</td>\n",
       "      <td>83807.86</td>\n",
       "      <td>1</td>\n",
       "      <td>0</td>\n",
       "      <td>1</td>\n",
       "      <td>112542.58</td>\n",
       "      <td>0</td>\n",
       "    </tr>\n",
       "    <tr>\n",
       "      <th>2</th>\n",
       "      <td>3</td>\n",
       "      <td>15619304</td>\n",
       "      <td>Onio</td>\n",
       "      <td>502</td>\n",
       "      <td>France</td>\n",
       "      <td>Female</td>\n",
       "      <td>42</td>\n",
       "      <td>8</td>\n",
       "      <td>159660.80</td>\n",
       "      <td>3</td>\n",
       "      <td>1</td>\n",
       "      <td>0</td>\n",
       "      <td>113931.57</td>\n",
       "      <td>1</td>\n",
       "    </tr>\n",
       "    <tr>\n",
       "      <th>3</th>\n",
       "      <td>4</td>\n",
       "      <td>15701354</td>\n",
       "      <td>Boni</td>\n",
       "      <td>699</td>\n",
       "      <td>France</td>\n",
       "      <td>Female</td>\n",
       "      <td>39</td>\n",
       "      <td>1</td>\n",
       "      <td>0.00</td>\n",
       "      <td>2</td>\n",
       "      <td>0</td>\n",
       "      <td>0</td>\n",
       "      <td>93826.63</td>\n",
       "      <td>0</td>\n",
       "    </tr>\n",
       "    <tr>\n",
       "      <th>4</th>\n",
       "      <td>5</td>\n",
       "      <td>15737888</td>\n",
       "      <td>Mitchell</td>\n",
       "      <td>850</td>\n",
       "      <td>Spain</td>\n",
       "      <td>Female</td>\n",
       "      <td>43</td>\n",
       "      <td>2</td>\n",
       "      <td>125510.82</td>\n",
       "      <td>1</td>\n",
       "      <td>1</td>\n",
       "      <td>1</td>\n",
       "      <td>79084.10</td>\n",
       "      <td>0</td>\n",
       "    </tr>\n",
       "  </tbody>\n",
       "</table>\n",
       "</div>"
      ],
      "text/plain": [
       "   RowNumber  CustomerId   Surname  CreditScore Geography  Gender  Age  \\\n",
       "0          1    15634602  Hargrave          619    France  Female   42   \n",
       "1          2    15647311      Hill          608     Spain  Female   41   \n",
       "2          3    15619304      Onio          502    France  Female   42   \n",
       "3          4    15701354      Boni          699    France  Female   39   \n",
       "4          5    15737888  Mitchell          850     Spain  Female   43   \n",
       "\n",
       "   Tenure    Balance  NumOfProducts  HasCrCard  IsActiveMember  \\\n",
       "0       2       0.00              1          1               1   \n",
       "1       1   83807.86              1          0               1   \n",
       "2       8  159660.80              3          1               0   \n",
       "3       1       0.00              2          0               0   \n",
       "4       2  125510.82              1          1               1   \n",
       "\n",
       "   EstimatedSalary  Exited  \n",
       "0        101348.88       1  \n",
       "1        112542.58       0  \n",
       "2        113931.57       1  \n",
       "3         93826.63       0  \n",
       "4         79084.10       0  "
      ]
     },
     "execution_count": 20,
     "metadata": {},
     "output_type": "execute_result"
    }
   ],
   "source": [
    "data.head()"
   ]
  },
  {
   "cell_type": "markdown",
   "id": "56f07742-2ec1-4759-a43e-5f16ee2ca8b7",
   "metadata": {},
   "source": [
    "For churn perdiction, Cols: RowNumber, CustomerId, Surname are not required so we'll drop these cols"
   ]
  },
  {
   "cell_type": "code",
   "execution_count": 21,
   "id": "fd458418-c386-42f3-b891-1808fc012f1b",
   "metadata": {},
   "outputs": [
    {
     "data": {
      "text/html": [
       "<div>\n",
       "<style scoped>\n",
       "    .dataframe tbody tr th:only-of-type {\n",
       "        vertical-align: middle;\n",
       "    }\n",
       "\n",
       "    .dataframe tbody tr th {\n",
       "        vertical-align: top;\n",
       "    }\n",
       "\n",
       "    .dataframe thead th {\n",
       "        text-align: right;\n",
       "    }\n",
       "</style>\n",
       "<table border=\"1\" class=\"dataframe\">\n",
       "  <thead>\n",
       "    <tr style=\"text-align: right;\">\n",
       "      <th></th>\n",
       "      <th>CreditScore</th>\n",
       "      <th>Geography</th>\n",
       "      <th>Gender</th>\n",
       "      <th>Age</th>\n",
       "      <th>Tenure</th>\n",
       "      <th>Balance</th>\n",
       "      <th>NumOfProducts</th>\n",
       "      <th>HasCrCard</th>\n",
       "      <th>IsActiveMember</th>\n",
       "      <th>EstimatedSalary</th>\n",
       "      <th>Exited</th>\n",
       "    </tr>\n",
       "  </thead>\n",
       "  <tbody>\n",
       "    <tr>\n",
       "      <th>0</th>\n",
       "      <td>619</td>\n",
       "      <td>France</td>\n",
       "      <td>Female</td>\n",
       "      <td>42</td>\n",
       "      <td>2</td>\n",
       "      <td>0.00</td>\n",
       "      <td>1</td>\n",
       "      <td>1</td>\n",
       "      <td>1</td>\n",
       "      <td>101348.88</td>\n",
       "      <td>1</td>\n",
       "    </tr>\n",
       "    <tr>\n",
       "      <th>1</th>\n",
       "      <td>608</td>\n",
       "      <td>Spain</td>\n",
       "      <td>Female</td>\n",
       "      <td>41</td>\n",
       "      <td>1</td>\n",
       "      <td>83807.86</td>\n",
       "      <td>1</td>\n",
       "      <td>0</td>\n",
       "      <td>1</td>\n",
       "      <td>112542.58</td>\n",
       "      <td>0</td>\n",
       "    </tr>\n",
       "    <tr>\n",
       "      <th>2</th>\n",
       "      <td>502</td>\n",
       "      <td>France</td>\n",
       "      <td>Female</td>\n",
       "      <td>42</td>\n",
       "      <td>8</td>\n",
       "      <td>159660.80</td>\n",
       "      <td>3</td>\n",
       "      <td>1</td>\n",
       "      <td>0</td>\n",
       "      <td>113931.57</td>\n",
       "      <td>1</td>\n",
       "    </tr>\n",
       "    <tr>\n",
       "      <th>3</th>\n",
       "      <td>699</td>\n",
       "      <td>France</td>\n",
       "      <td>Female</td>\n",
       "      <td>39</td>\n",
       "      <td>1</td>\n",
       "      <td>0.00</td>\n",
       "      <td>2</td>\n",
       "      <td>0</td>\n",
       "      <td>0</td>\n",
       "      <td>93826.63</td>\n",
       "      <td>0</td>\n",
       "    </tr>\n",
       "    <tr>\n",
       "      <th>4</th>\n",
       "      <td>850</td>\n",
       "      <td>Spain</td>\n",
       "      <td>Female</td>\n",
       "      <td>43</td>\n",
       "      <td>2</td>\n",
       "      <td>125510.82</td>\n",
       "      <td>1</td>\n",
       "      <td>1</td>\n",
       "      <td>1</td>\n",
       "      <td>79084.10</td>\n",
       "      <td>0</td>\n",
       "    </tr>\n",
       "  </tbody>\n",
       "</table>\n",
       "</div>"
      ],
      "text/plain": [
       "   CreditScore Geography  Gender  Age  Tenure    Balance  NumOfProducts  \\\n",
       "0          619    France  Female   42       2       0.00              1   \n",
       "1          608     Spain  Female   41       1   83807.86              1   \n",
       "2          502    France  Female   42       8  159660.80              3   \n",
       "3          699    France  Female   39       1       0.00              2   \n",
       "4          850     Spain  Female   43       2  125510.82              1   \n",
       "\n",
       "   HasCrCard  IsActiveMember  EstimatedSalary  Exited  \n",
       "0          1               1        101348.88       1  \n",
       "1          0               1        112542.58       0  \n",
       "2          1               0        113931.57       1  \n",
       "3          0               0         93826.63       0  \n",
       "4          1               1         79084.10       0  "
      ]
     },
     "execution_count": 21,
     "metadata": {},
     "output_type": "execute_result"
    }
   ],
   "source": [
    "data = data.drop(['RowNumber', 'CustomerId', 'Surname'], axis=1)\n",
    "data.head()"
   ]
  },
  {
   "cell_type": "code",
   "execution_count": 22,
   "id": "fdb636b6-be33-4081-8819-b7f5dcbcb671",
   "metadata": {},
   "outputs": [
    {
     "data": {
      "text/plain": [
       "CreditScore        0\n",
       "Geography          0\n",
       "Gender             0\n",
       "Age                0\n",
       "Tenure             0\n",
       "Balance            0\n",
       "NumOfProducts      0\n",
       "HasCrCard          0\n",
       "IsActiveMember     0\n",
       "EstimatedSalary    0\n",
       "Exited             0\n",
       "dtype: int64"
      ]
     },
     "execution_count": 22,
     "metadata": {},
     "output_type": "execute_result"
    }
   ],
   "source": [
    "data.isnull().sum()"
   ]
  },
  {
   "cell_type": "markdown",
   "id": "0752426c-78e7-49d5-80ee-588a3c80fed9",
   "metadata": {},
   "source": [
    "There are no missing value in any col\n",
    "\n",
    "All the datatypes look correct"
   ]
  },
  {
   "cell_type": "code",
   "execution_count": 23,
   "id": "93b28792-1529-4026-adfa-e6a978c0e9e9",
   "metadata": {},
   "outputs": [
    {
     "data": {
      "text/plain": [
       "(10000, 11)"
      ]
     },
     "execution_count": 23,
     "metadata": {},
     "output_type": "execute_result"
    }
   ],
   "source": [
    "data.shape"
   ]
  },
  {
   "cell_type": "code",
   "execution_count": 24,
   "id": "183d5da0-831a-4904-9b86-7d1abad88652",
   "metadata": {},
   "outputs": [
    {
     "name": "stdout",
     "output_type": "stream",
     "text": [
      "<class 'pandas.core.frame.DataFrame'>\n",
      "RangeIndex: 10000 entries, 0 to 9999\n",
      "Data columns (total 11 columns):\n",
      " #   Column           Non-Null Count  Dtype  \n",
      "---  ------           --------------  -----  \n",
      " 0   CreditScore      10000 non-null  int64  \n",
      " 1   Geography        10000 non-null  object \n",
      " 2   Gender           10000 non-null  object \n",
      " 3   Age              10000 non-null  int64  \n",
      " 4   Tenure           10000 non-null  int64  \n",
      " 5   Balance          10000 non-null  float64\n",
      " 6   NumOfProducts    10000 non-null  int64  \n",
      " 7   HasCrCard        10000 non-null  int64  \n",
      " 8   IsActiveMember   10000 non-null  int64  \n",
      " 9   EstimatedSalary  10000 non-null  float64\n",
      " 10  Exited           10000 non-null  int64  \n",
      "dtypes: float64(2), int64(7), object(2)\n",
      "memory usage: 859.5+ KB\n"
     ]
    }
   ],
   "source": [
    "data.info()"
   ]
  },
  {
   "cell_type": "code",
   "execution_count": 25,
   "id": "dcdbb9ff-fafd-4051-91e9-48c8ca7b7526",
   "metadata": {},
   "outputs": [
    {
     "data": {
      "text/html": [
       "<div>\n",
       "<style scoped>\n",
       "    .dataframe tbody tr th:only-of-type {\n",
       "        vertical-align: middle;\n",
       "    }\n",
       "\n",
       "    .dataframe tbody tr th {\n",
       "        vertical-align: top;\n",
       "    }\n",
       "\n",
       "    .dataframe thead th {\n",
       "        text-align: right;\n",
       "    }\n",
       "</style>\n",
       "<table border=\"1\" class=\"dataframe\">\n",
       "  <thead>\n",
       "    <tr style=\"text-align: right;\">\n",
       "      <th></th>\n",
       "      <th>CreditScore</th>\n",
       "      <th>Age</th>\n",
       "      <th>Tenure</th>\n",
       "      <th>Balance</th>\n",
       "      <th>NumOfProducts</th>\n",
       "      <th>HasCrCard</th>\n",
       "      <th>IsActiveMember</th>\n",
       "      <th>EstimatedSalary</th>\n",
       "      <th>Exited</th>\n",
       "    </tr>\n",
       "  </thead>\n",
       "  <tbody>\n",
       "    <tr>\n",
       "      <th>count</th>\n",
       "      <td>10000.000000</td>\n",
       "      <td>10000.000000</td>\n",
       "      <td>10000.000000</td>\n",
       "      <td>10000.000000</td>\n",
       "      <td>10000.000000</td>\n",
       "      <td>10000.00000</td>\n",
       "      <td>10000.000000</td>\n",
       "      <td>10000.000000</td>\n",
       "      <td>10000.000000</td>\n",
       "    </tr>\n",
       "    <tr>\n",
       "      <th>mean</th>\n",
       "      <td>650.528800</td>\n",
       "      <td>38.921800</td>\n",
       "      <td>5.012800</td>\n",
       "      <td>76485.889288</td>\n",
       "      <td>1.530200</td>\n",
       "      <td>0.70550</td>\n",
       "      <td>0.515100</td>\n",
       "      <td>100090.239881</td>\n",
       "      <td>0.203700</td>\n",
       "    </tr>\n",
       "    <tr>\n",
       "      <th>std</th>\n",
       "      <td>96.653299</td>\n",
       "      <td>10.487806</td>\n",
       "      <td>2.892174</td>\n",
       "      <td>62397.405202</td>\n",
       "      <td>0.581654</td>\n",
       "      <td>0.45584</td>\n",
       "      <td>0.499797</td>\n",
       "      <td>57510.492818</td>\n",
       "      <td>0.402769</td>\n",
       "    </tr>\n",
       "    <tr>\n",
       "      <th>min</th>\n",
       "      <td>350.000000</td>\n",
       "      <td>18.000000</td>\n",
       "      <td>0.000000</td>\n",
       "      <td>0.000000</td>\n",
       "      <td>1.000000</td>\n",
       "      <td>0.00000</td>\n",
       "      <td>0.000000</td>\n",
       "      <td>11.580000</td>\n",
       "      <td>0.000000</td>\n",
       "    </tr>\n",
       "    <tr>\n",
       "      <th>25%</th>\n",
       "      <td>584.000000</td>\n",
       "      <td>32.000000</td>\n",
       "      <td>3.000000</td>\n",
       "      <td>0.000000</td>\n",
       "      <td>1.000000</td>\n",
       "      <td>0.00000</td>\n",
       "      <td>0.000000</td>\n",
       "      <td>51002.110000</td>\n",
       "      <td>0.000000</td>\n",
       "    </tr>\n",
       "    <tr>\n",
       "      <th>50%</th>\n",
       "      <td>652.000000</td>\n",
       "      <td>37.000000</td>\n",
       "      <td>5.000000</td>\n",
       "      <td>97198.540000</td>\n",
       "      <td>1.000000</td>\n",
       "      <td>1.00000</td>\n",
       "      <td>1.000000</td>\n",
       "      <td>100193.915000</td>\n",
       "      <td>0.000000</td>\n",
       "    </tr>\n",
       "    <tr>\n",
       "      <th>75%</th>\n",
       "      <td>718.000000</td>\n",
       "      <td>44.000000</td>\n",
       "      <td>7.000000</td>\n",
       "      <td>127644.240000</td>\n",
       "      <td>2.000000</td>\n",
       "      <td>1.00000</td>\n",
       "      <td>1.000000</td>\n",
       "      <td>149388.247500</td>\n",
       "      <td>0.000000</td>\n",
       "    </tr>\n",
       "    <tr>\n",
       "      <th>max</th>\n",
       "      <td>850.000000</td>\n",
       "      <td>92.000000</td>\n",
       "      <td>10.000000</td>\n",
       "      <td>250898.090000</td>\n",
       "      <td>4.000000</td>\n",
       "      <td>1.00000</td>\n",
       "      <td>1.000000</td>\n",
       "      <td>199992.480000</td>\n",
       "      <td>1.000000</td>\n",
       "    </tr>\n",
       "  </tbody>\n",
       "</table>\n",
       "</div>"
      ],
      "text/plain": [
       "        CreditScore           Age        Tenure        Balance  NumOfProducts  \\\n",
       "count  10000.000000  10000.000000  10000.000000   10000.000000   10000.000000   \n",
       "mean     650.528800     38.921800      5.012800   76485.889288       1.530200   \n",
       "std       96.653299     10.487806      2.892174   62397.405202       0.581654   \n",
       "min      350.000000     18.000000      0.000000       0.000000       1.000000   \n",
       "25%      584.000000     32.000000      3.000000       0.000000       1.000000   \n",
       "50%      652.000000     37.000000      5.000000   97198.540000       1.000000   \n",
       "75%      718.000000     44.000000      7.000000  127644.240000       2.000000   \n",
       "max      850.000000     92.000000     10.000000  250898.090000       4.000000   \n",
       "\n",
       "         HasCrCard  IsActiveMember  EstimatedSalary        Exited  \n",
       "count  10000.00000    10000.000000     10000.000000  10000.000000  \n",
       "mean       0.70550        0.515100    100090.239881      0.203700  \n",
       "std        0.45584        0.499797     57510.492818      0.402769  \n",
       "min        0.00000        0.000000        11.580000      0.000000  \n",
       "25%        0.00000        0.000000     51002.110000      0.000000  \n",
       "50%        1.00000        1.000000    100193.915000      0.000000  \n",
       "75%        1.00000        1.000000    149388.247500      0.000000  \n",
       "max        1.00000        1.000000    199992.480000      1.000000  "
      ]
     },
     "execution_count": 25,
     "metadata": {},
     "output_type": "execute_result"
    }
   ],
   "source": [
    "data.describe()"
   ]
  },
  {
   "cell_type": "markdown",
   "id": "f8db0867-edc8-43d1-869e-7f5c9185f8a4",
   "metadata": {},
   "source": [
    "**Check Duplicates**"
   ]
  },
  {
   "cell_type": "code",
   "execution_count": 26,
   "id": "051de859-0263-4a8a-905d-3549321fb26a",
   "metadata": {},
   "outputs": [
    {
     "data": {
      "text/plain": [
       "0"
      ]
     },
     "execution_count": 26,
     "metadata": {},
     "output_type": "execute_result"
    }
   ],
   "source": [
    "data.duplicated().sum()"
   ]
  },
  {
   "cell_type": "code",
   "execution_count": 27,
   "id": "b4bc652b-b89b-476c-bb7a-6f59a95f2f76",
   "metadata": {},
   "outputs": [
    {
     "data": {
      "text/plain": [
       "CreditScore         460\n",
       "Geography             3\n",
       "Gender                2\n",
       "Age                  70\n",
       "Tenure               11\n",
       "Balance            6382\n",
       "NumOfProducts         4\n",
       "HasCrCard             2\n",
       "IsActiveMember        2\n",
       "EstimatedSalary    9999\n",
       "Exited                2\n",
       "dtype: int64"
      ]
     },
     "execution_count": 27,
     "metadata": {},
     "output_type": "execute_result"
    }
   ],
   "source": [
    "data.nunique()"
   ]
  },
  {
   "cell_type": "code",
   "execution_count": 28,
   "id": "88caa58e-fa24-4b53-8589-a5a4ec49fc8a",
   "metadata": {},
   "outputs": [
    {
     "data": {
      "text/plain": [
       "Exited\n",
       "0    7963\n",
       "1    2037\n",
       "Name: count, dtype: int64"
      ]
     },
     "execution_count": 28,
     "metadata": {},
     "output_type": "execute_result"
    }
   ],
   "source": [
    "data['Exited'].value_counts()"
   ]
  },
  {
   "cell_type": "markdown",
   "id": "008e71b9-a50d-4945-bba2-357a54c34bbe",
   "metadata": {},
   "source": [
    "2037 people left the organization but 7963 are still using the product."
   ]
  },
  {
   "cell_type": "code",
   "execution_count": 29,
   "id": "2df922f4-ee49-4963-bc8a-cd5d4c48021c",
   "metadata": {},
   "outputs": [
    {
     "data": {
      "text/plain": [
       "Geography\n",
       "France     5014\n",
       "Germany    2509\n",
       "Spain      2477\n",
       "Name: count, dtype: int64"
      ]
     },
     "execution_count": 29,
     "metadata": {},
     "output_type": "execute_result"
    }
   ],
   "source": [
    "data['Geography'].value_counts()"
   ]
  },
  {
   "cell_type": "markdown",
   "id": "677f2851-f7a3-4e85-b076-7df269aa6056",
   "metadata": {},
   "source": [
    "**Performing Encode on Geography and Gender columns**"
   ]
  },
  {
   "cell_type": "code",
   "execution_count": 30,
   "id": "ae893929-1dca-4188-b8d4-e03c3afbff79",
   "metadata": {},
   "outputs": [],
   "source": [
    "data = pd.get_dummies(data, columns = ['Geography','Gender'], drop_first = True)"
   ]
  },
  {
   "cell_type": "code",
   "execution_count": 31,
   "id": "6b7120ec-c94e-4fa0-a45b-9998846a45bf",
   "metadata": {},
   "outputs": [
    {
     "data": {
      "text/html": [
       "<div>\n",
       "<style scoped>\n",
       "    .dataframe tbody tr th:only-of-type {\n",
       "        vertical-align: middle;\n",
       "    }\n",
       "\n",
       "    .dataframe tbody tr th {\n",
       "        vertical-align: top;\n",
       "    }\n",
       "\n",
       "    .dataframe thead th {\n",
       "        text-align: right;\n",
       "    }\n",
       "</style>\n",
       "<table border=\"1\" class=\"dataframe\">\n",
       "  <thead>\n",
       "    <tr style=\"text-align: right;\">\n",
       "      <th></th>\n",
       "      <th>CreditScore</th>\n",
       "      <th>Age</th>\n",
       "      <th>Tenure</th>\n",
       "      <th>Balance</th>\n",
       "      <th>NumOfProducts</th>\n",
       "      <th>HasCrCard</th>\n",
       "      <th>IsActiveMember</th>\n",
       "      <th>EstimatedSalary</th>\n",
       "      <th>Exited</th>\n",
       "      <th>Geography_Germany</th>\n",
       "      <th>Geography_Spain</th>\n",
       "      <th>Gender_Male</th>\n",
       "    </tr>\n",
       "  </thead>\n",
       "  <tbody>\n",
       "    <tr>\n",
       "      <th>0</th>\n",
       "      <td>619</td>\n",
       "      <td>42</td>\n",
       "      <td>2</td>\n",
       "      <td>0.00</td>\n",
       "      <td>1</td>\n",
       "      <td>1</td>\n",
       "      <td>1</td>\n",
       "      <td>101348.88</td>\n",
       "      <td>1</td>\n",
       "      <td>False</td>\n",
       "      <td>False</td>\n",
       "      <td>False</td>\n",
       "    </tr>\n",
       "    <tr>\n",
       "      <th>1</th>\n",
       "      <td>608</td>\n",
       "      <td>41</td>\n",
       "      <td>1</td>\n",
       "      <td>83807.86</td>\n",
       "      <td>1</td>\n",
       "      <td>0</td>\n",
       "      <td>1</td>\n",
       "      <td>112542.58</td>\n",
       "      <td>0</td>\n",
       "      <td>False</td>\n",
       "      <td>True</td>\n",
       "      <td>False</td>\n",
       "    </tr>\n",
       "    <tr>\n",
       "      <th>2</th>\n",
       "      <td>502</td>\n",
       "      <td>42</td>\n",
       "      <td>8</td>\n",
       "      <td>159660.80</td>\n",
       "      <td>3</td>\n",
       "      <td>1</td>\n",
       "      <td>0</td>\n",
       "      <td>113931.57</td>\n",
       "      <td>1</td>\n",
       "      <td>False</td>\n",
       "      <td>False</td>\n",
       "      <td>False</td>\n",
       "    </tr>\n",
       "    <tr>\n",
       "      <th>3</th>\n",
       "      <td>699</td>\n",
       "      <td>39</td>\n",
       "      <td>1</td>\n",
       "      <td>0.00</td>\n",
       "      <td>2</td>\n",
       "      <td>0</td>\n",
       "      <td>0</td>\n",
       "      <td>93826.63</td>\n",
       "      <td>0</td>\n",
       "      <td>False</td>\n",
       "      <td>False</td>\n",
       "      <td>False</td>\n",
       "    </tr>\n",
       "    <tr>\n",
       "      <th>4</th>\n",
       "      <td>850</td>\n",
       "      <td>43</td>\n",
       "      <td>2</td>\n",
       "      <td>125510.82</td>\n",
       "      <td>1</td>\n",
       "      <td>1</td>\n",
       "      <td>1</td>\n",
       "      <td>79084.10</td>\n",
       "      <td>0</td>\n",
       "      <td>False</td>\n",
       "      <td>True</td>\n",
       "      <td>False</td>\n",
       "    </tr>\n",
       "  </tbody>\n",
       "</table>\n",
       "</div>"
      ],
      "text/plain": [
       "   CreditScore  Age  Tenure    Balance  NumOfProducts  HasCrCard  \\\n",
       "0          619   42       2       0.00              1          1   \n",
       "1          608   41       1   83807.86              1          0   \n",
       "2          502   42       8  159660.80              3          1   \n",
       "3          699   39       1       0.00              2          0   \n",
       "4          850   43       2  125510.82              1          1   \n",
       "\n",
       "   IsActiveMember  EstimatedSalary  Exited  Geography_Germany  \\\n",
       "0               1        101348.88       1              False   \n",
       "1               1        112542.58       0              False   \n",
       "2               0        113931.57       1              False   \n",
       "3               0         93826.63       0              False   \n",
       "4               1         79084.10       0              False   \n",
       "\n",
       "   Geography_Spain  Gender_Male  \n",
       "0            False        False  \n",
       "1             True        False  \n",
       "2            False        False  \n",
       "3            False        False  \n",
       "4             True        False  "
      ]
     },
     "execution_count": 31,
     "metadata": {},
     "output_type": "execute_result"
    }
   ],
   "source": [
    "data.head()"
   ]
  },
  {
   "cell_type": "code",
   "execution_count": 32,
   "id": "79eda46d-d994-4983-8354-435bff93693a",
   "metadata": {},
   "outputs": [],
   "source": [
    "data['Geography_Germany'] = data['Geography_Germany'].astype(int)\n",
    "data['Geography_Spain'] = data['Geography_Spain'].astype(int)\n",
    "data['Gender_Male'] = data['Gender_Male'].astype(int)"
   ]
  },
  {
   "cell_type": "code",
   "execution_count": 33,
   "id": "a17f2b08-0529-49bb-bb19-4d545fed55b1",
   "metadata": {},
   "outputs": [
    {
     "data": {
      "text/html": [
       "<div>\n",
       "<style scoped>\n",
       "    .dataframe tbody tr th:only-of-type {\n",
       "        vertical-align: middle;\n",
       "    }\n",
       "\n",
       "    .dataframe tbody tr th {\n",
       "        vertical-align: top;\n",
       "    }\n",
       "\n",
       "    .dataframe thead th {\n",
       "        text-align: right;\n",
       "    }\n",
       "</style>\n",
       "<table border=\"1\" class=\"dataframe\">\n",
       "  <thead>\n",
       "    <tr style=\"text-align: right;\">\n",
       "      <th></th>\n",
       "      <th>CreditScore</th>\n",
       "      <th>Age</th>\n",
       "      <th>Tenure</th>\n",
       "      <th>Balance</th>\n",
       "      <th>NumOfProducts</th>\n",
       "      <th>HasCrCard</th>\n",
       "      <th>IsActiveMember</th>\n",
       "      <th>EstimatedSalary</th>\n",
       "      <th>Exited</th>\n",
       "      <th>Geography_Germany</th>\n",
       "      <th>Geography_Spain</th>\n",
       "      <th>Gender_Male</th>\n",
       "    </tr>\n",
       "  </thead>\n",
       "  <tbody>\n",
       "    <tr>\n",
       "      <th>0</th>\n",
       "      <td>619</td>\n",
       "      <td>42</td>\n",
       "      <td>2</td>\n",
       "      <td>0.00</td>\n",
       "      <td>1</td>\n",
       "      <td>1</td>\n",
       "      <td>1</td>\n",
       "      <td>101348.88</td>\n",
       "      <td>1</td>\n",
       "      <td>0</td>\n",
       "      <td>0</td>\n",
       "      <td>0</td>\n",
       "    </tr>\n",
       "    <tr>\n",
       "      <th>1</th>\n",
       "      <td>608</td>\n",
       "      <td>41</td>\n",
       "      <td>1</td>\n",
       "      <td>83807.86</td>\n",
       "      <td>1</td>\n",
       "      <td>0</td>\n",
       "      <td>1</td>\n",
       "      <td>112542.58</td>\n",
       "      <td>0</td>\n",
       "      <td>0</td>\n",
       "      <td>1</td>\n",
       "      <td>0</td>\n",
       "    </tr>\n",
       "    <tr>\n",
       "      <th>2</th>\n",
       "      <td>502</td>\n",
       "      <td>42</td>\n",
       "      <td>8</td>\n",
       "      <td>159660.80</td>\n",
       "      <td>3</td>\n",
       "      <td>1</td>\n",
       "      <td>0</td>\n",
       "      <td>113931.57</td>\n",
       "      <td>1</td>\n",
       "      <td>0</td>\n",
       "      <td>0</td>\n",
       "      <td>0</td>\n",
       "    </tr>\n",
       "    <tr>\n",
       "      <th>3</th>\n",
       "      <td>699</td>\n",
       "      <td>39</td>\n",
       "      <td>1</td>\n",
       "      <td>0.00</td>\n",
       "      <td>2</td>\n",
       "      <td>0</td>\n",
       "      <td>0</td>\n",
       "      <td>93826.63</td>\n",
       "      <td>0</td>\n",
       "      <td>0</td>\n",
       "      <td>0</td>\n",
       "      <td>0</td>\n",
       "    </tr>\n",
       "    <tr>\n",
       "      <th>4</th>\n",
       "      <td>850</td>\n",
       "      <td>43</td>\n",
       "      <td>2</td>\n",
       "      <td>125510.82</td>\n",
       "      <td>1</td>\n",
       "      <td>1</td>\n",
       "      <td>1</td>\n",
       "      <td>79084.10</td>\n",
       "      <td>0</td>\n",
       "      <td>0</td>\n",
       "      <td>1</td>\n",
       "      <td>0</td>\n",
       "    </tr>\n",
       "  </tbody>\n",
       "</table>\n",
       "</div>"
      ],
      "text/plain": [
       "   CreditScore  Age  Tenure    Balance  NumOfProducts  HasCrCard  \\\n",
       "0          619   42       2       0.00              1          1   \n",
       "1          608   41       1   83807.86              1          0   \n",
       "2          502   42       8  159660.80              3          1   \n",
       "3          699   39       1       0.00              2          0   \n",
       "4          850   43       2  125510.82              1          1   \n",
       "\n",
       "   IsActiveMember  EstimatedSalary  Exited  Geography_Germany  \\\n",
       "0               1        101348.88       1                  0   \n",
       "1               1        112542.58       0                  0   \n",
       "2               0        113931.57       1                  0   \n",
       "3               0         93826.63       0                  0   \n",
       "4               1         79084.10       0                  0   \n",
       "\n",
       "   Geography_Spain  Gender_Male  \n",
       "0                0            0  \n",
       "1                1            0  \n",
       "2                0            0  \n",
       "3                0            0  \n",
       "4                1            0  "
      ]
     },
     "execution_count": 33,
     "metadata": {},
     "output_type": "execute_result"
    }
   ],
   "source": [
    "data.head()"
   ]
  },
  {
   "cell_type": "code",
   "execution_count": 36,
   "id": "620d04da-1719-4db7-a925-c2fe5acc0cd7",
   "metadata": {},
   "outputs": [],
   "source": [
    "x = data.drop(columns = ['Exited'])\n",
    "y = data['Exited']"
   ]
  },
  {
   "cell_type": "code",
   "execution_count": 37,
   "id": "4357d6e1-86f0-4c0b-82a9-4015d42e12c6",
   "metadata": {},
   "outputs": [
    {
     "name": "stdout",
     "output_type": "stream",
     "text": [
      "(10000, 11)\n",
      "(10000,)\n"
     ]
    }
   ],
   "source": [
    "print(x.shape)\n",
    "print(y.shape)"
   ]
  },
  {
   "cell_type": "code",
   "execution_count": 34,
   "id": "e9eb721a-ec7f-4969-8fed-635e2d88f967",
   "metadata": {},
   "outputs": [],
   "source": [
    "#df_input = df.iloc[:,:-1]\n",
    "##df_output = df.iloc[:, -1]"
   ]
  },
  {
   "cell_type": "code",
   "execution_count": 39,
   "id": "357e819a-5f5b-42b8-9d24-42cbe70948d2",
   "metadata": {},
   "outputs": [],
   "source": [
    "x_train, x_test, y_train, y_test = train_test_split(x, y, test_size=0.2, random_state=42)"
   ]
  },
  {
   "cell_type": "code",
   "execution_count": 40,
   "id": "dcfd5f3a-af30-43ce-b0ee-5c56f999642a",
   "metadata": {},
   "outputs": [],
   "source": [
    "scaler = StandardScaler()\n",
    "x_train_scaled = scaler.fit_transform(x_train)\n",
    "x_test_scaled = scaler.transform(x_test)"
   ]
  },
  {
   "cell_type": "code",
   "execution_count": 41,
   "id": "6bbafcbc-c255-489c-99a0-b16df94ba073",
   "metadata": {},
   "outputs": [
    {
     "data": {
      "text/plain": [
       "array([[ 0.35649971, -0.6557859 ,  0.34567966, ..., -0.57946723,\n",
       "        -0.57638802,  0.91324755],\n",
       "       [-0.20389777,  0.29493847, -0.3483691 , ...,  1.72572313,\n",
       "        -0.57638802,  0.91324755],\n",
       "       [-0.96147213, -1.41636539, -0.69539349, ..., -0.57946723,\n",
       "         1.73494238,  0.91324755],\n",
       "       ...,\n",
       "       [ 0.86500853, -0.08535128, -1.38944225, ..., -0.57946723,\n",
       "        -0.57638802, -1.09499335],\n",
       "       [ 0.15932282,  0.3900109 ,  1.03972843, ..., -0.57946723,\n",
       "        -0.57638802,  0.91324755],\n",
       "       [ 0.47065475,  1.15059039, -1.38944225, ...,  1.72572313,\n",
       "        -0.57638802,  0.91324755]])"
      ]
     },
     "execution_count": 41,
     "metadata": {},
     "output_type": "execute_result"
    }
   ],
   "source": [
    "x_train_scaled"
   ]
  },
  {
   "cell_type": "code",
   "execution_count": 42,
   "id": "5e8613d5-6159-45e3-8cbd-65fd3b72e421",
   "metadata": {},
   "outputs": [
    {
     "name": "stdout",
     "output_type": "stream",
     "text": [
      "(8000, 11)\n",
      "(8000,)\n"
     ]
    }
   ],
   "source": [
    "print(x_train.shape)\n",
    "print(y_train.shape)"
   ]
  },
  {
   "cell_type": "code",
   "execution_count": 43,
   "id": "dabee12c-2e33-454e-a5bb-ab965ca5489b",
   "metadata": {},
   "outputs": [],
   "source": [
    "ann = Sequential()"
   ]
  },
  {
   "cell_type": "code",
   "execution_count": 44,
   "id": "b7b5491b-f3b2-4ed5-a581-9ceca0116ae3",
   "metadata": {},
   "outputs": [
    {
     "name": "stderr",
     "output_type": "stream",
     "text": [
      "C:\\Users\\Al hamad\\AppData\\Roaming\\Python\\Python312\\site-packages\\keras\\src\\layers\\core\\dense.py:87: UserWarning: Do not pass an `input_shape`/`input_dim` argument to a layer. When using Sequential models, prefer using an `Input(shape)` object as the first layer in the model instead.\n",
      "  super().__init__(activity_regularizer=activity_regularizer, **kwargs)\n"
     ]
    }
   ],
   "source": [
    "ann.add(Dense(8, input_dim =11, activation='relu'))\n",
    "ann.add(Dense(5,  activation='relu'))\n",
    "ann.add(Dense(3, activation='relu'))\n",
    "ann.add(Dense(1, input_dim =11, activation='sigmoid'))"
   ]
  },
  {
   "cell_type": "code",
   "execution_count": 47,
   "id": "8cb5b4a0-47d0-4b70-bd91-bda4f1b12da3",
   "metadata": {},
   "outputs": [],
   "source": [
    "ann.compile(optimizer='adam', loss='binary_crossentropy', metrics=['accuracy'])"
   ]
  },
  {
   "cell_type": "code",
   "execution_count": 48,
   "id": "4632abe7-2cf4-4a08-9cc7-4be91972f9f9",
   "metadata": {},
   "outputs": [
    {
     "data": {
      "text/html": [
       "<pre style=\"white-space:pre;overflow-x:auto;line-height:normal;font-family:Menlo,'DejaVu Sans Mono',consolas,'Courier New',monospace\"><span style=\"font-weight: bold\">Model: \"sequential\"</span>\n",
       "</pre>\n"
      ],
      "text/plain": [
       "\u001b[1mModel: \"sequential\"\u001b[0m\n"
      ]
     },
     "metadata": {},
     "output_type": "display_data"
    },
    {
     "data": {
      "text/html": [
       "<pre style=\"white-space:pre;overflow-x:auto;line-height:normal;font-family:Menlo,'DejaVu Sans Mono',consolas,'Courier New',monospace\">┏━━━━━━━━━━━━━━━━━━━━━━━━━━━━━━━━━┳━━━━━━━━━━━━━━━━━━━━━━━━┳━━━━━━━━━━━━━━━┓\n",
       "┃<span style=\"font-weight: bold\"> Layer (type)                    </span>┃<span style=\"font-weight: bold\"> Output Shape           </span>┃<span style=\"font-weight: bold\">       Param # </span>┃\n",
       "┡━━━━━━━━━━━━━━━━━━━━━━━━━━━━━━━━━╇━━━━━━━━━━━━━━━━━━━━━━━━╇━━━━━━━━━━━━━━━┩\n",
       "│ dense (<span style=\"color: #0087ff; text-decoration-color: #0087ff\">Dense</span>)                   │ (<span style=\"color: #00d7ff; text-decoration-color: #00d7ff\">None</span>, <span style=\"color: #00af00; text-decoration-color: #00af00\">8</span>)              │            <span style=\"color: #00af00; text-decoration-color: #00af00\">96</span> │\n",
       "├─────────────────────────────────┼────────────────────────┼───────────────┤\n",
       "│ dense_1 (<span style=\"color: #0087ff; text-decoration-color: #0087ff\">Dense</span>)                 │ (<span style=\"color: #00d7ff; text-decoration-color: #00d7ff\">None</span>, <span style=\"color: #00af00; text-decoration-color: #00af00\">5</span>)              │            <span style=\"color: #00af00; text-decoration-color: #00af00\">45</span> │\n",
       "├─────────────────────────────────┼────────────────────────┼───────────────┤\n",
       "│ dense_2 (<span style=\"color: #0087ff; text-decoration-color: #0087ff\">Dense</span>)                 │ (<span style=\"color: #00d7ff; text-decoration-color: #00d7ff\">None</span>, <span style=\"color: #00af00; text-decoration-color: #00af00\">3</span>)              │            <span style=\"color: #00af00; text-decoration-color: #00af00\">18</span> │\n",
       "├─────────────────────────────────┼────────────────────────┼───────────────┤\n",
       "│ dense_3 (<span style=\"color: #0087ff; text-decoration-color: #0087ff\">Dense</span>)                 │ (<span style=\"color: #00d7ff; text-decoration-color: #00d7ff\">None</span>, <span style=\"color: #00af00; text-decoration-color: #00af00\">1</span>)              │             <span style=\"color: #00af00; text-decoration-color: #00af00\">4</span> │\n",
       "└─────────────────────────────────┴────────────────────────┴───────────────┘\n",
       "</pre>\n"
      ],
      "text/plain": [
       "┏━━━━━━━━━━━━━━━━━━━━━━━━━━━━━━━━━┳━━━━━━━━━━━━━━━━━━━━━━━━┳━━━━━━━━━━━━━━━┓\n",
       "┃\u001b[1m \u001b[0m\u001b[1mLayer (type)                   \u001b[0m\u001b[1m \u001b[0m┃\u001b[1m \u001b[0m\u001b[1mOutput Shape          \u001b[0m\u001b[1m \u001b[0m┃\u001b[1m \u001b[0m\u001b[1m      Param #\u001b[0m\u001b[1m \u001b[0m┃\n",
       "┡━━━━━━━━━━━━━━━━━━━━━━━━━━━━━━━━━╇━━━━━━━━━━━━━━━━━━━━━━━━╇━━━━━━━━━━━━━━━┩\n",
       "│ dense (\u001b[38;5;33mDense\u001b[0m)                   │ (\u001b[38;5;45mNone\u001b[0m, \u001b[38;5;34m8\u001b[0m)              │            \u001b[38;5;34m96\u001b[0m │\n",
       "├─────────────────────────────────┼────────────────────────┼───────────────┤\n",
       "│ dense_1 (\u001b[38;5;33mDense\u001b[0m)                 │ (\u001b[38;5;45mNone\u001b[0m, \u001b[38;5;34m5\u001b[0m)              │            \u001b[38;5;34m45\u001b[0m │\n",
       "├─────────────────────────────────┼────────────────────────┼───────────────┤\n",
       "│ dense_2 (\u001b[38;5;33mDense\u001b[0m)                 │ (\u001b[38;5;45mNone\u001b[0m, \u001b[38;5;34m3\u001b[0m)              │            \u001b[38;5;34m18\u001b[0m │\n",
       "├─────────────────────────────────┼────────────────────────┼───────────────┤\n",
       "│ dense_3 (\u001b[38;5;33mDense\u001b[0m)                 │ (\u001b[38;5;45mNone\u001b[0m, \u001b[38;5;34m1\u001b[0m)              │             \u001b[38;5;34m4\u001b[0m │\n",
       "└─────────────────────────────────┴────────────────────────┴───────────────┘\n"
      ]
     },
     "metadata": {},
     "output_type": "display_data"
    },
    {
     "data": {
      "text/html": [
       "<pre style=\"white-space:pre;overflow-x:auto;line-height:normal;font-family:Menlo,'DejaVu Sans Mono',consolas,'Courier New',monospace\"><span style=\"font-weight: bold\"> Total params: </span><span style=\"color: #00af00; text-decoration-color: #00af00\">163</span> (652.00 B)\n",
       "</pre>\n"
      ],
      "text/plain": [
       "\u001b[1m Total params: \u001b[0m\u001b[38;5;34m163\u001b[0m (652.00 B)\n"
      ]
     },
     "metadata": {},
     "output_type": "display_data"
    },
    {
     "data": {
      "text/html": [
       "<pre style=\"white-space:pre;overflow-x:auto;line-height:normal;font-family:Menlo,'DejaVu Sans Mono',consolas,'Courier New',monospace\"><span style=\"font-weight: bold\"> Trainable params: </span><span style=\"color: #00af00; text-decoration-color: #00af00\">163</span> (652.00 B)\n",
       "</pre>\n"
      ],
      "text/plain": [
       "\u001b[1m Trainable params: \u001b[0m\u001b[38;5;34m163\u001b[0m (652.00 B)\n"
      ]
     },
     "metadata": {},
     "output_type": "display_data"
    },
    {
     "data": {
      "text/html": [
       "<pre style=\"white-space:pre;overflow-x:auto;line-height:normal;font-family:Menlo,'DejaVu Sans Mono',consolas,'Courier New',monospace\"><span style=\"font-weight: bold\"> Non-trainable params: </span><span style=\"color: #00af00; text-decoration-color: #00af00\">0</span> (0.00 B)\n",
       "</pre>\n"
      ],
      "text/plain": [
       "\u001b[1m Non-trainable params: \u001b[0m\u001b[38;5;34m0\u001b[0m (0.00 B)\n"
      ]
     },
     "metadata": {},
     "output_type": "display_data"
    }
   ],
   "source": [
    "ann.summary()"
   ]
  },
  {
   "cell_type": "code",
   "execution_count": 53,
   "id": "24518de5-e7a1-43a4-a0df-c9ca6e6d32a6",
   "metadata": {},
   "outputs": [
    {
     "name": "stdout",
     "output_type": "stream",
     "text": [
      "Epoch 1/15\n",
      "\u001b[1m250/250\u001b[0m \u001b[32m━━━━━━━━━━━━━━━━━━━━\u001b[0m\u001b[37m\u001b[0m \u001b[1m1s\u001b[0m 4ms/step - accuracy: 0.7512 - loss: 0.5544\n",
      "Epoch 2/15\n",
      "\u001b[1m250/250\u001b[0m \u001b[32m━━━━━━━━━━━━━━━━━━━━\u001b[0m\u001b[37m\u001b[0m \u001b[1m1s\u001b[0m 4ms/step - accuracy: 0.7916 - loss: 0.4728\n",
      "Epoch 3/15\n",
      "\u001b[1m250/250\u001b[0m \u001b[32m━━━━━━━━━━━━━━━━━━━━\u001b[0m\u001b[37m\u001b[0m \u001b[1m1s\u001b[0m 4ms/step - accuracy: 0.7960 - loss: 0.4628\n",
      "Epoch 4/15\n",
      "\u001b[1m250/250\u001b[0m \u001b[32m━━━━━━━━━━━━━━━━━━━━\u001b[0m\u001b[37m\u001b[0m \u001b[1m1s\u001b[0m 4ms/step - accuracy: 0.7975 - loss: 0.4536\n",
      "Epoch 5/15\n",
      "\u001b[1m250/250\u001b[0m \u001b[32m━━━━━━━━━━━━━━━━━━━━\u001b[0m\u001b[37m\u001b[0m \u001b[1m1s\u001b[0m 3ms/step - accuracy: 0.7995 - loss: 0.4502\n",
      "Epoch 6/15\n",
      "\u001b[1m250/250\u001b[0m \u001b[32m━━━━━━━━━━━━━━━━━━━━\u001b[0m\u001b[37m\u001b[0m \u001b[1m1s\u001b[0m 3ms/step - accuracy: 0.7959 - loss: 0.4478\n",
      "Epoch 7/15\n",
      "\u001b[1m250/250\u001b[0m \u001b[32m━━━━━━━━━━━━━━━━━━━━\u001b[0m\u001b[37m\u001b[0m \u001b[1m1s\u001b[0m 3ms/step - accuracy: 0.8056 - loss: 0.4377\n",
      "Epoch 8/15\n",
      "\u001b[1m250/250\u001b[0m \u001b[32m━━━━━━━━━━━━━━━━━━━━\u001b[0m\u001b[37m\u001b[0m \u001b[1m1s\u001b[0m 3ms/step - accuracy: 0.8157 - loss: 0.4181\n",
      "Epoch 9/15\n",
      "\u001b[1m250/250\u001b[0m \u001b[32m━━━━━━━━━━━━━━━━━━━━\u001b[0m\u001b[37m\u001b[0m \u001b[1m1s\u001b[0m 3ms/step - accuracy: 0.8237 - loss: 0.4143\n",
      "Epoch 10/15\n",
      "\u001b[1m250/250\u001b[0m \u001b[32m━━━━━━━━━━━━━━━━━━━━\u001b[0m\u001b[37m\u001b[0m \u001b[1m1s\u001b[0m 4ms/step - accuracy: 0.8268 - loss: 0.4127\n",
      "Epoch 11/15\n",
      "\u001b[1m250/250\u001b[0m \u001b[32m━━━━━━━━━━━━━━━━━━━━\u001b[0m\u001b[37m\u001b[0m \u001b[1m1s\u001b[0m 4ms/step - accuracy: 0.8224 - loss: 0.4129\n",
      "Epoch 12/15\n",
      "\u001b[1m250/250\u001b[0m \u001b[32m━━━━━━━━━━━━━━━━━━━━\u001b[0m\u001b[37m\u001b[0m \u001b[1m1s\u001b[0m 3ms/step - accuracy: 0.8251 - loss: 0.4186\n",
      "Epoch 13/15\n",
      "\u001b[1m250/250\u001b[0m \u001b[32m━━━━━━━━━━━━━━━━━━━━\u001b[0m\u001b[37m\u001b[0m \u001b[1m1s\u001b[0m 4ms/step - accuracy: 0.8269 - loss: 0.4102\n",
      "Epoch 14/15\n",
      "\u001b[1m250/250\u001b[0m \u001b[32m━━━━━━━━━━━━━━━━━━━━\u001b[0m\u001b[37m\u001b[0m \u001b[1m1s\u001b[0m 4ms/step - accuracy: 0.8320 - loss: 0.4062\n",
      "Epoch 15/15\n",
      "\u001b[1m250/250\u001b[0m \u001b[32m━━━━━━━━━━━━━━━━━━━━\u001b[0m\u001b[37m\u001b[0m \u001b[1m1s\u001b[0m 4ms/step - accuracy: 0.8339 - loss: 0.4072\n"
     ]
    },
    {
     "data": {
      "text/plain": [
       "<keras.src.callbacks.history.History at 0x139a5ec0230>"
      ]
     },
     "execution_count": 53,
     "metadata": {},
     "output_type": "execute_result"
    }
   ],
   "source": [
    "#ann.fit(x_train, y_train, batch_size=100, epochs = 15)\n",
    "ann.fit(x_train_scaled, y_train,  epochs = 15)"
   ]
  },
  {
   "cell_type": "markdown",
   "id": "7565516b-9ae9-46d1-a21c-1ce3c0fef11a",
   "metadata": {},
   "source": [
    "**Find Weights and Biases of the Model**"
   ]
  },
  {
   "cell_type": "code",
   "execution_count": 54,
   "id": "8f05ebde-9d35-4a6e-9d0a-c24b509d7121",
   "metadata": {},
   "outputs": [
    {
     "data": {
      "text/plain": [
       "[array([[-7.4611545e-02, -4.5054328e-01,  1.5969592e-01,  6.2901360e-01,\n",
       "         -4.8462623e-01,  3.7492886e-01,  1.5455602e-01,  4.5494622e-01],\n",
       "        [-1.9107265e+00,  9.2938465e-01, -6.8208754e-02,  6.5540659e-01,\n",
       "         -4.0085438e-01, -5.8776610e-02,  4.8902756e-01, -4.0456739e-01],\n",
       "        [-6.6531427e-02,  5.2758825e-01, -6.0627079e-01,  3.6628908e-01,\n",
       "         -1.7405134e-01,  5.2122563e-01, -5.6508847e-02,  1.2701996e-01],\n",
       "        [-1.7945339e-01,  1.3719316e-01,  9.6888058e-02, -1.4196221e-03,\n",
       "          4.0274483e-01,  5.8226591e-01,  2.5949648e-01, -1.4084986e-01],\n",
       "        [ 1.9735652e-01, -3.8273286e-02,  6.1728841e-01,  2.4785101e-01,\n",
       "         -1.8372345e-01, -9.6245384e-01,  2.0086272e-01, -2.1419153e-01],\n",
       "        [ 1.8299241e-02,  4.0585959e-01,  3.3851254e-01,  1.2042973e+00,\n",
       "         -3.7186801e-01,  3.2569247e-01, -1.9919711e-01, -1.2151713e-01],\n",
       "        [-2.4877255e-01, -1.6505296e+00, -7.7255166e-01,  1.0034815e+00,\n",
       "          1.5528345e+00,  3.5885918e-01, -6.8175912e-01,  1.2934934e+00],\n",
       "        [ 2.6893605e-02,  4.7186233e-02,  3.5858539e-01, -1.1630019e-01,\n",
       "          3.5121000e-01, -3.9847773e-01, -1.7484558e-01,  4.7522110e-01],\n",
       "        [ 2.6328915e-01,  7.0943600e-01,  1.1909069e+00, -2.8338781e-01,\n",
       "         -1.0390339e+00, -6.5386748e-01,  1.3745975e+00, -6.2071604e-01],\n",
       "        [-8.6586073e-02,  3.7308031e-01, -3.2456648e-01,  6.2235874e-01,\n",
       "          7.3120587e-02,  1.3768074e-01, -7.5306726e-01, -4.6348485e-01],\n",
       "        [-9.1356458e-04, -4.3616721e-01, -2.1837980e-01,  1.0298787e+00,\n",
       "          7.0402253e-01,  2.7978513e-01, -1.0189393e+00,  5.7710940e-01]],\n",
       "       dtype=float32),\n",
       " array([ 1.58811688e+00,  1.26792282e-01, -5.74102364e-02,  5.03935218e-01,\n",
       "        -4.09147404e-02,  1.22994386e-01,  1.02818951e-01, -1.38907973e-03],\n",
       "       dtype=float32)]"
      ]
     },
     "execution_count": 54,
     "metadata": {},
     "output_type": "execute_result"
    }
   ],
   "source": [
    "ann.layers[0].get_weights()"
   ]
  },
  {
   "cell_type": "code",
   "execution_count": 55,
   "id": "20c7cb16-1ca5-43a9-9e42-403812ab2c8d",
   "metadata": {},
   "outputs": [
    {
     "data": {
      "text/plain": [
       "[array([[-0.30427906],\n",
       "        [ 0.6618916 ],\n",
       "        [-0.84592026]], dtype=float32),\n",
       " array([-0.33938447], dtype=float32)]"
      ]
     },
     "execution_count": 55,
     "metadata": {},
     "output_type": "execute_result"
    }
   ],
   "source": [
    "ann.layers[3].get_weights()"
   ]
  },
  {
   "cell_type": "raw",
   "id": "caf5948f-9166-4184-b473-0cbc7aab35db",
   "metadata": {},
   "source": [
    "3 Weights and 1 Bias of the first layer and Output layer [weights(3*1) + bias(1)] on layer 4."
   ]
  },
  {
   "cell_type": "code",
   "execution_count": 56,
   "id": "ecc29aea-64df-4bf8-a52c-7e5cfaf4650b",
   "metadata": {},
   "outputs": [
    {
     "name": "stdout",
     "output_type": "stream",
     "text": [
      "\u001b[1m250/250\u001b[0m \u001b[32m━━━━━━━━━━━━━━━━━━━━\u001b[0m\u001b[37m\u001b[0m \u001b[1m1s\u001b[0m 3ms/step\n"
     ]
    }
   ],
   "source": [
    "pred1 = ann.predict(x_train)"
   ]
  },
  {
   "cell_type": "markdown",
   "id": "abc30c12-d6a4-4292-8ff1-06c27cd5c884",
   "metadata": {},
   "source": [
    "**Model Prediction and Accuracy**"
   ]
  },
  {
   "cell_type": "code",
   "execution_count": 58,
   "id": "859e0901-2041-40d5-8a6f-b083f3528e90",
   "metadata": {},
   "outputs": [
    {
     "name": "stdout",
     "output_type": "stream",
     "text": [
      "\u001b[1m63/63\u001b[0m \u001b[32m━━━━━━━━━━━━━━━━━━━━\u001b[0m\u001b[37m\u001b[0m \u001b[1m0s\u001b[0m 5ms/step\n"
     ]
    },
    {
     "data": {
      "text/plain": [
       "array([[0.15069914],\n",
       "       [0.07545742],\n",
       "       [0.35819513],\n",
       "       ...,\n",
       "       [0.5015301 ],\n",
       "       [0.04939315],\n",
       "       [0.17623541]], dtype=float32)"
      ]
     },
     "execution_count": 58,
     "metadata": {},
     "output_type": "execute_result"
    }
   ],
   "source": [
    "y_pred = ann.predict(x_test_scaled)\n",
    "y_pred"
   ]
  },
  {
   "cell_type": "raw",
   "id": "13b14be9-cfa4-49e3-a6b1-e8ccf3e09a78",
   "metadata": {},
   "source": [
    "Since we have used Sigmoid Activation function, the result is in probabilities instead of 0 and 1.\n",
    "We have decided a threshold of 0.5 to divide the probabilities into 0 and 1"
   ]
  },
  {
   "cell_type": "code",
   "execution_count": 59,
   "id": "a32f69fb-899a-4af2-87ba-ffcaab4c1fb2",
   "metadata": {},
   "outputs": [
    {
     "data": {
      "text/plain": [
       "array([[0],\n",
       "       [0],\n",
       "       [0],\n",
       "       ...,\n",
       "       [1],\n",
       "       [0],\n",
       "       [0]])"
      ]
     },
     "execution_count": 59,
     "metadata": {},
     "output_type": "execute_result"
    }
   ],
   "source": [
    "y_pred_new = np.where(y_pred>0.5,1,0)\n",
    "y_pred_new"
   ]
  },
  {
   "cell_type": "code",
   "execution_count": 60,
   "id": "7d3de4ef-3617-49b3-9516-bf7b8bf2f266",
   "metadata": {},
   "outputs": [
    {
     "data": {
      "text/plain": [
       "0.8335"
      ]
     },
     "execution_count": 60,
     "metadata": {},
     "output_type": "execute_result"
    }
   ],
   "source": [
    "accuracy_score(y_test, y_pred_new)"
   ]
  },
  {
   "cell_type": "markdown",
   "id": "e44f0c0a-b8fb-47f1-8df3-6bb924b12bdd",
   "metadata": {},
   "source": [
    "We have got accuracy of almost 83%."
   ]
  },
  {
   "cell_type": "code",
   "execution_count": 65,
   "id": "114dc33f-16be-46cd-971d-a9ceb952ec1b",
   "metadata": {},
   "outputs": [
    {
     "name": "stdout",
     "output_type": "stream",
     "text": [
      "Epoch 1/15\n",
      "\u001b[1m250/250\u001b[0m \u001b[32m━━━━━━━━━━━━━━━━━━━━\u001b[0m\u001b[37m\u001b[0m \u001b[1m1s\u001b[0m 4ms/step - accuracy: 0.8563 - loss: 0.3493\n",
      "Epoch 2/15\n",
      "\u001b[1m250/250\u001b[0m \u001b[32m━━━━━━━━━━━━━━━━━━━━\u001b[0m\u001b[37m\u001b[0m \u001b[1m1s\u001b[0m 4ms/step - accuracy: 0.8612 - loss: 0.3509\n",
      "Epoch 3/15\n",
      "\u001b[1m250/250\u001b[0m \u001b[32m━━━━━━━━━━━━━━━━━━━━\u001b[0m\u001b[37m\u001b[0m \u001b[1m1s\u001b[0m 4ms/step - accuracy: 0.8507 - loss: 0.3630\n",
      "Epoch 4/15\n",
      "\u001b[1m250/250\u001b[0m \u001b[32m━━━━━━━━━━━━━━━━━━━━\u001b[0m\u001b[37m\u001b[0m \u001b[1m1s\u001b[0m 4ms/step - accuracy: 0.8602 - loss: 0.3522\n",
      "Epoch 5/15\n",
      "\u001b[1m250/250\u001b[0m \u001b[32m━━━━━━━━━━━━━━━━━━━━\u001b[0m\u001b[37m\u001b[0m \u001b[1m1s\u001b[0m 4ms/step - accuracy: 0.8604 - loss: 0.3544\n",
      "Epoch 6/15\n",
      "\u001b[1m250/250\u001b[0m \u001b[32m━━━━━━━━━━━━━━━━━━━━\u001b[0m\u001b[37m\u001b[0m \u001b[1m1s\u001b[0m 3ms/step - accuracy: 0.8531 - loss: 0.3577\n",
      "Epoch 7/15\n",
      "\u001b[1m250/250\u001b[0m \u001b[32m━━━━━━━━━━━━━━━━━━━━\u001b[0m\u001b[37m\u001b[0m \u001b[1m1s\u001b[0m 4ms/step - accuracy: 0.8497 - loss: 0.3593\n",
      "Epoch 8/15\n",
      "\u001b[1m250/250\u001b[0m \u001b[32m━━━━━━━━━━━━━━━━━━━━\u001b[0m\u001b[37m\u001b[0m \u001b[1m1s\u001b[0m 4ms/step - accuracy: 0.8684 - loss: 0.3367\n",
      "Epoch 9/15\n",
      "\u001b[1m250/250\u001b[0m \u001b[32m━━━━━━━━━━━━━━━━━━━━\u001b[0m\u001b[37m\u001b[0m \u001b[1m1s\u001b[0m 4ms/step - accuracy: 0.8581 - loss: 0.3513\n",
      "Epoch 10/15\n",
      "\u001b[1m250/250\u001b[0m \u001b[32m━━━━━━━━━━━━━━━━━━━━\u001b[0m\u001b[37m\u001b[0m \u001b[1m1s\u001b[0m 4ms/step - accuracy: 0.8597 - loss: 0.3471\n",
      "Epoch 11/15\n",
      "\u001b[1m250/250\u001b[0m \u001b[32m━━━━━━━━━━━━━━━━━━━━\u001b[0m\u001b[37m\u001b[0m \u001b[1m1s\u001b[0m 4ms/step - accuracy: 0.8565 - loss: 0.3523\n",
      "Epoch 12/15\n",
      "\u001b[1m250/250\u001b[0m \u001b[32m━━━━━━━━━━━━━━━━━━━━\u001b[0m\u001b[37m\u001b[0m \u001b[1m1s\u001b[0m 3ms/step - accuracy: 0.8607 - loss: 0.3463\n",
      "Epoch 13/15\n",
      "\u001b[1m250/250\u001b[0m \u001b[32m━━━━━━━━━━━━━━━━━━━━\u001b[0m\u001b[37m\u001b[0m \u001b[1m1s\u001b[0m 4ms/step - accuracy: 0.8611 - loss: 0.3442\n",
      "Epoch 14/15\n",
      "\u001b[1m250/250\u001b[0m \u001b[32m━━━━━━━━━━━━━━━━━━━━\u001b[0m\u001b[37m\u001b[0m \u001b[1m1s\u001b[0m 5ms/step - accuracy: 0.8645 - loss: 0.3372\n",
      "Epoch 15/15\n",
      "\u001b[1m250/250\u001b[0m \u001b[32m━━━━━━━━━━━━━━━━━━━━\u001b[0m\u001b[37m\u001b[0m \u001b[1m1s\u001b[0m 3ms/step - accuracy: 0.8603 - loss: 0.3411\n"
     ]
    }
   ],
   "source": [
    "model_history = ann.fit(x_train_scaled, y_train,  epochs = 15)"
   ]
  },
  {
   "cell_type": "code",
   "execution_count": 64,
   "id": "320dc00a-e312-489d-b72f-80fa81242265",
   "metadata": {},
   "outputs": [
    {
     "data": {
      "text/plain": [
       "{'accuracy': [0.8488749861717224,\n",
       "  0.8493750095367432,\n",
       "  0.8513749837875366,\n",
       "  0.8531249761581421,\n",
       "  0.8521249890327454,\n",
       "  0.8533750176429749,\n",
       "  0.8544999957084656,\n",
       "  0.856124997138977,\n",
       "  0.856374979019165,\n",
       "  0.8571249842643738,\n",
       "  0.8568750023841858,\n",
       "  0.8569999933242798,\n",
       "  0.8573750257492065,\n",
       "  0.8572499752044678,\n",
       "  0.8571249842643738],\n",
       " 'loss': [0.36644619703292847,\n",
       "  0.3640393614768982,\n",
       "  0.36218497157096863,\n",
       "  0.3606814444065094,\n",
       "  0.3590882122516632,\n",
       "  0.3582741916179657,\n",
       "  0.35701075196266174,\n",
       "  0.356243371963501,\n",
       "  0.35541456937789917,\n",
       "  0.3548503518104553,\n",
       "  0.3540654182434082,\n",
       "  0.35353896021842957,\n",
       "  0.3529958128929138,\n",
       "  0.35267966985702515,\n",
       "  0.3516397178173065]}"
      ]
     },
     "execution_count": 64,
     "metadata": {},
     "output_type": "execute_result"
    }
   ],
   "source": [
    "model_history.history"
   ]
  },
  {
   "cell_type": "raw",
   "id": "fc273639-d0da-4bfa-ac5b-e3e1c3c6d639",
   "metadata": {},
   "source": [
    "It's a Dictionary of Key, Value Pairs for 2 Keys: accuracy and loss.\n",
    "For every epochs (here 15), accuracy and loss has been given"
   ]
  },
  {
   "cell_type": "code",
   "execution_count": 67,
   "id": "b835197d-7f79-4ffa-b4bd-1f616b761dcb",
   "metadata": {},
   "outputs": [
    {
     "data": {
      "text/plain": [
       "[<matplotlib.lines.Line2D at 0x139a9de9f10>]"
      ]
     },
     "execution_count": 67,
     "metadata": {},
     "output_type": "execute_result"
    },
    {
     "data": {
      "image/png": "[encoded data removed]",
      "text/plain": [
       "<Figure size 640x480 with 1 Axes>"
      ]
     },
     "metadata": {},
     "output_type": "display_data"
    }
   ],
   "source": [
    "plt.plot(model_history.history['loss'])"
   ]
  },
  {
   "cell_type": "code",
   "execution_count": 66,
   "id": "554b1b6c-36d3-405e-8fac-212e55152400",
   "metadata": {},
   "outputs": [
    {
     "data": {
      "text/plain": [
       "[<matplotlib.lines.Line2D at 0x139a5b8a180>]"
      ]
     },
     "execution_count": 66,
     "metadata": {},
     "output_type": "execute_result"
    },
    {
     "data": {
      "image/png": "[encoded data removed]",
      "text/plain": [
       "<Figure size 640x480 with 1 Axes>"
      ]
     },
     "metadata": {},
     "output_type": "display_data"
    }
   ],
   "source": [
    "plt.plot(model_history.history['accuracy'])"
   ]
  },
  {
   "cell_type": "code",
   "execution_count": null,
   "id": "d680c5e6-f780-42d9-b668-5780fe0e68dc",
   "metadata": {},
   "outputs": [],
   "source": []
  }
 ],
 "metadata": {
  "kernelspec": {
   "display_name": "Python 3 (ipykernel)",
   "language": "python",
   "name": "python3"
  },
  "language_info": {
   "codemirror_mode": {
    "name": "ipython",
    "version": 3
   },
   "file_extension": ".py",
   "mimetype": "text/x-python",
   "name": "python",
   "nbconvert_exporter": "python",
   "pygments_lexer": "ipython3",
   "version": "3.12.4"
  }
 },
 "nbformat": 4,
 "nbformat_minor": 5
}
