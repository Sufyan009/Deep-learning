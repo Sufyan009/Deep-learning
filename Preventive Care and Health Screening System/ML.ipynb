{
 "cells": [
  {
   "cell_type": "markdown",
   "id": "81eae219-98b9-4d4b-9620-ca8f1ce15aeb",
   "metadata": {},
   "source": [
    "# **Preventive Care and Health Screening System**"
   ]
  },
  {
   "cell_type": "markdown",
   "id": "44500b53-2c30-4ea9-8821-28b8d6e4161c",
   "metadata": {},
   "source": [
    "### **Problem Statement**\n",
    "\n",
    "In modern healthcare, preventive care and health screenings are essential for early detection and effective management of chronic diseases. However, many patients miss their routine screenings due to a lack of timely reminders or awareness. This results in late diagnoses, higher healthcare costs, and poorer health outcomes.\n",
    "\n",
    "Healthcare providers face challenges in identifying and reaching patients who are due or overdue for preventive screenings. They need a systematic, automated solution to manage patient data, track screening schedules, and provide timely notifications.\n",
    "\n",
    "---\n",
    "\n",
    "### **Core Problem Statement**\n",
    "\n",
    "**\"How can we build an automated and cost-effective system that identifies patients overdue for preventive care and health screenings, predicts their risk levels, and sends timely reminders to improve adherence and health outcomes?\"**\n",
    "\n",
    "---\n",
    "\n",
    "### **Challenges Addressed**\n",
    "1. **Identification of Overdue Patients**  \n",
    "   Patients who miss their screenings are often not identified due to fragmented or outdated patient records.\n",
    "\n",
    "2. **Risk Prediction**  \n",
    "   Healthcare providers need to prioritize high-risk patients for follow-ups, but manual analysis is time-consuming and error-prone.\n",
    "\n",
    "3. **Timely Notifications**  \n",
    "   Many patients do not receive reminders about their preventive care, leading to missed opportunities for early intervention.\n",
    "\n",
    "4. **Resource Constraints**  \n",
    "   Many healthcare organizations have limited budgets and resources to develop sophisticated systems.\n",
    "\n",
    "---\n",
    "\n",
    "### **Goals of the Solution**\n",
    "1. **Automate Screening Identification**  \n",
    "   Develop a system to automatically flag patients overdue for screenings.\n",
    "\n",
    "2. **Predict Risk Levels**  \n",
    "   Use machine learning to predict the likelihood of complications based on patient history.\n",
    "\n",
    "3. **Send Automated Notifications**  \n",
    "   Integrate notification mechanisms (SMS, email) to remind patients of due or overdue screenings.\n",
    "\n",
    "4. **Improve Patient Outcomes**  \n",
    "   Increase adherence to preventive care protocols, leading to early detection and better disease management.\n",
    "\n",
    "5. **Cost-Effective Implementation**  \n",
    "   Leverage free and open-source tools to ensure accessibility and affordability for healthcare providers."
   ]
  },
  {
   "cell_type": "markdown",
   "id": "7818a82f-9cee-4595-a6dd-49a86adacb9e",
   "metadata": {},
   "source": [
    "**Lets do some data processing**"
   ]
  },
  {
   "cell_type": "code",
   "execution_count": 14,
   "id": "273c24b5-4da2-461e-919c-195dcf61f659",
   "metadata": {},
   "outputs": [],
   "source": [
    "import pandas as pd\n",
    "import numpy as np\n",
    "from sklearn.model_selection import train_test_split, GridSearchCV\n",
    "from sklearn.preprocessing import StandardScaler, OneHotEncoder\n",
    "from sklearn.compose import ColumnTransformer\n",
    "from sklearn.pipeline import Pipeline\n",
    "from xgboost import XGBClassifier\n",
    "from sklearn.metrics import accuracy_score, classification_report, confusion_matrix, roc_auc_score, roc_curve\n",
    "import matplotlib.pyplot as plt\n",
    "import seaborn as sns"
   ]
  },
  {
   "cell_type": "code",
   "execution_count": 2,
   "id": "1b9a7bb0-d158-46d3-9073-66dd81deb21b",
   "metadata": {},
   "outputs": [
    {
     "data": {
      "text/html": [
       "<div>\n",
       "<style scoped>\n",
       "    .dataframe tbody tr th:only-of-type {\n",
       "        vertical-align: middle;\n",
       "    }\n",
       "\n",
       "    .dataframe tbody tr th {\n",
       "        vertical-align: top;\n",
       "    }\n",
       "\n",
       "    .dataframe thead th {\n",
       "        text-align: right;\n",
       "    }\n",
       "</style>\n",
       "<table border=\"1\" class=\"dataframe\">\n",
       "  <thead>\n",
       "    <tr style=\"text-align: right;\">\n",
       "      <th></th>\n",
       "      <th>Patient ID</th>\n",
       "      <th>Age</th>\n",
       "      <th>Gender</th>\n",
       "      <th>Chronic Disease</th>\n",
       "      <th>Preventive Measures</th>\n",
       "      <th>Quality of Life Score</th>\n",
       "      <th>Risk Factors</th>\n",
       "      <th>Lifestyle Interventions</th>\n",
       "      <th>BMI</th>\n",
       "      <th>Screening Status</th>\n",
       "      <th>...</th>\n",
       "      <th>Follow-Up Schedule</th>\n",
       "      <th>Risk Score</th>\n",
       "      <th>Priority Level</th>\n",
       "      <th>Health Advice</th>\n",
       "      <th>Diagnosis Date</th>\n",
       "      <th>Current Medications</th>\n",
       "      <th>Blood Pressure</th>\n",
       "      <th>Blood Sugar Levels</th>\n",
       "      <th>Doctor Name</th>\n",
       "      <th>Healthcare Provider</th>\n",
       "    </tr>\n",
       "  </thead>\n",
       "  <tbody>\n",
       "    <tr>\n",
       "      <th>0</th>\n",
       "      <td>S0001</td>\n",
       "      <td>80</td>\n",
       "      <td>Female</td>\n",
       "      <td>Cancer Risk</td>\n",
       "      <td>Diet Plan</td>\n",
       "      <td>12.5</td>\n",
       "      <td>Smoking</td>\n",
       "      <td>Exercise</td>\n",
       "      <td>20.5</td>\n",
       "      <td>Completed</td>\n",
       "      <td>...</td>\n",
       "      <td>2/25/2026</td>\n",
       "      <td>70</td>\n",
       "      <td>Medium</td>\n",
       "      <td>Consider increasing physical activity.</td>\n",
       "      <td>2018-02-24</td>\n",
       "      <td>Atorvastatin</td>\n",
       "      <td>121/77</td>\n",
       "      <td>NaN</td>\n",
       "      <td>Catherine Thompson</td>\n",
       "      <td>ABC Health</td>\n",
       "    </tr>\n",
       "    <tr>\n",
       "      <th>1</th>\n",
       "      <td>S0002</td>\n",
       "      <td>36</td>\n",
       "      <td>Male</td>\n",
       "      <td>Heart Disease</td>\n",
       "      <td>Routine Screening</td>\n",
       "      <td>64.8</td>\n",
       "      <td>Sedentary Lifestyle</td>\n",
       "      <td>Yoga</td>\n",
       "      <td>27.1</td>\n",
       "      <td>Overdue</td>\n",
       "      <td>...</td>\n",
       "      <td>11/23/2026</td>\n",
       "      <td>4</td>\n",
       "      <td>Low</td>\n",
       "      <td>Consider quitting smoking.</td>\n",
       "      <td>2017-03-22</td>\n",
       "      <td>Atorvastatin</td>\n",
       "      <td>140/87</td>\n",
       "      <td>160.5</td>\n",
       "      <td>Katherine Strong</td>\n",
       "      <td>ABC Health</td>\n",
       "    </tr>\n",
       "    <tr>\n",
       "      <th>2</th>\n",
       "      <td>S0003</td>\n",
       "      <td>74</td>\n",
       "      <td>Male</td>\n",
       "      <td>Heart Disease</td>\n",
       "      <td>Smoking Cessation</td>\n",
       "      <td>57.1</td>\n",
       "      <td>Obesity</td>\n",
       "      <td>Exercise</td>\n",
       "      <td>31.2</td>\n",
       "      <td>Due</td>\n",
       "      <td>...</td>\n",
       "      <td>10/16/2024</td>\n",
       "      <td>97</td>\n",
       "      <td>High</td>\n",
       "      <td>Consider quitting smoking.</td>\n",
       "      <td>2023-11-25</td>\n",
       "      <td>Omeprazole</td>\n",
       "      <td>100/63</td>\n",
       "      <td>NaN</td>\n",
       "      <td>Joseph Collins</td>\n",
       "      <td>CarePlus</td>\n",
       "    </tr>\n",
       "    <tr>\n",
       "      <th>3</th>\n",
       "      <td>S0004</td>\n",
       "      <td>33</td>\n",
       "      <td>Male</td>\n",
       "      <td>Cancer Risk</td>\n",
       "      <td>Diet Plan</td>\n",
       "      <td>69.5</td>\n",
       "      <td>Smoking</td>\n",
       "      <td>Yoga</td>\n",
       "      <td>25.7</td>\n",
       "      <td>Overdue</td>\n",
       "      <td>...</td>\n",
       "      <td>8/13/2024</td>\n",
       "      <td>55</td>\n",
       "      <td>Medium</td>\n",
       "      <td>Consider quitting smoking.</td>\n",
       "      <td>2016-12-06</td>\n",
       "      <td>Metformin</td>\n",
       "      <td>98/66</td>\n",
       "      <td>78.4</td>\n",
       "      <td>Joshua Schmidt</td>\n",
       "      <td>CarePlus</td>\n",
       "    </tr>\n",
       "    <tr>\n",
       "      <th>4</th>\n",
       "      <td>S0005</td>\n",
       "      <td>67</td>\n",
       "      <td>Male</td>\n",
       "      <td>Heart Disease</td>\n",
       "      <td>Smoking Cessation</td>\n",
       "      <td>68.8</td>\n",
       "      <td>Family History</td>\n",
       "      <td>Yoga</td>\n",
       "      <td>25.8</td>\n",
       "      <td>Overdue</td>\n",
       "      <td>...</td>\n",
       "      <td>3/6/2026</td>\n",
       "      <td>46</td>\n",
       "      <td>Medium</td>\n",
       "      <td>Consider quitting smoking.</td>\n",
       "      <td>2020-06-09</td>\n",
       "      <td>Metformin</td>\n",
       "      <td>117/73</td>\n",
       "      <td>76.4</td>\n",
       "      <td>Ashlee Zimmerman</td>\n",
       "      <td>CarePlus</td>\n",
       "    </tr>\n",
       "  </tbody>\n",
       "</table>\n",
       "<p>5 rows × 21 columns</p>\n",
       "</div>"
      ],
      "text/plain": [
       "  Patient ID  Age  Gender Chronic Disease Preventive Measures  \\\n",
       "0      S0001   80  Female     Cancer Risk           Diet Plan   \n",
       "1      S0002   36    Male   Heart Disease   Routine Screening   \n",
       "2      S0003   74    Male   Heart Disease   Smoking Cessation   \n",
       "3      S0004   33    Male     Cancer Risk           Diet Plan   \n",
       "4      S0005   67    Male   Heart Disease   Smoking Cessation   \n",
       "\n",
       "   Quality of Life Score         Risk Factors Lifestyle Interventions   BMI  \\\n",
       "0                   12.5              Smoking                Exercise  20.5   \n",
       "1                   64.8  Sedentary Lifestyle                    Yoga  27.1   \n",
       "2                   57.1              Obesity                Exercise  31.2   \n",
       "3                   69.5              Smoking                    Yoga  25.7   \n",
       "4                   68.8       Family History                    Yoga  25.8   \n",
       "\n",
       "  Screening Status  ... Follow-Up Schedule Risk Score  Priority Level  \\\n",
       "0        Completed  ...          2/25/2026         70          Medium   \n",
       "1          Overdue  ...         11/23/2026          4             Low   \n",
       "2              Due  ...         10/16/2024         97            High   \n",
       "3          Overdue  ...          8/13/2024         55          Medium   \n",
       "4          Overdue  ...           3/6/2026         46          Medium   \n",
       "\n",
       "                            Health Advice Diagnosis Date Current Medications  \\\n",
       "0  Consider increasing physical activity.     2018-02-24        Atorvastatin   \n",
       "1              Consider quitting smoking.     2017-03-22        Atorvastatin   \n",
       "2              Consider quitting smoking.     2023-11-25          Omeprazole   \n",
       "3              Consider quitting smoking.     2016-12-06           Metformin   \n",
       "4              Consider quitting smoking.     2020-06-09           Metformin   \n",
       "\n",
       "  Blood Pressure Blood Sugar Levels         Doctor Name Healthcare Provider  \n",
       "0         121/77                NaN  Catherine Thompson          ABC Health  \n",
       "1         140/87              160.5    Katherine Strong          ABC Health  \n",
       "2         100/63                NaN      Joseph Collins            CarePlus  \n",
       "3          98/66               78.4      Joshua Schmidt            CarePlus  \n",
       "4         117/73               76.4    Ashlee Zimmerman            CarePlus  \n",
       "\n",
       "[5 rows x 21 columns]"
      ]
     },
     "execution_count": 2,
     "metadata": {},
     "output_type": "execute_result"
    }
   ],
   "source": [
    "df = pd.read_csv(\"data.csv\")\n",
    "df.head()"
   ]
  },
  {
   "cell_type": "code",
   "execution_count": 3,
   "id": "9c776154-6dd7-47d0-8b05-faaade749150",
   "metadata": {},
   "outputs": [
    {
     "name": "stdout",
     "output_type": "stream",
     "text": [
      "Column Names:\n",
      "Index(['Patient ID', 'Age', 'Gender', 'Chronic Disease', 'Preventive Measures',\n",
      "       'Quality of Life Score', 'Risk Factors', 'Lifestyle Interventions',\n",
      "       'BMI', 'Screening Status', 'Screening Completion Date',\n",
      "       'Follow-Up Schedule', 'Risk Score', 'Priority Level', 'Health Advice',\n",
      "       'Diagnosis Date', 'Current Medications', 'Blood Pressure',\n",
      "       'Blood Sugar Levels', 'Doctor Name', 'Healthcare Provider'],\n",
      "      dtype='object')\n"
     ]
    }
   ],
   "source": [
    "print(\"Column Names:\")\n",
    "print(df.columns)"
   ]
  },
  {
   "cell_type": "code",
   "execution_count": 4,
   "id": "2de71177-5a4c-4ff3-bd84-7516538f7241",
   "metadata": {},
   "outputs": [
    {
     "name": "stdout",
     "output_type": "stream",
     "text": [
      "<class 'pandas.core.frame.DataFrame'>\n",
      "RangeIndex: 6000 entries, 0 to 5999\n",
      "Data columns (total 21 columns):\n",
      " #   Column                     Non-Null Count  Dtype  \n",
      "---  ------                     --------------  -----  \n",
      " 0   Patient ID                 6000 non-null   object \n",
      " 1   Age                        6000 non-null   int64  \n",
      " 2   Gender                     6000 non-null   object \n",
      " 3   Chronic Disease            6000 non-null   object \n",
      " 4   Preventive Measures        6000 non-null   object \n",
      " 5   Quality of Life Score      6000 non-null   float64\n",
      " 6   Risk Factors               6000 non-null   object \n",
      " 7   Lifestyle Interventions    6000 non-null   object \n",
      " 8   BMI                        6000 non-null   float64\n",
      " 9   Screening Status           6000 non-null   object \n",
      " 10  Screening Completion Date  3038 non-null   object \n",
      " 11  Follow-Up Schedule         6000 non-null   object \n",
      " 12  Risk Score                 6000 non-null   int64  \n",
      " 13  Priority Level             6000 non-null   object \n",
      " 14  Health Advice              6000 non-null   object \n",
      " 15  Diagnosis Date             6000 non-null   object \n",
      " 16  Current Medications        6000 non-null   object \n",
      " 17  Blood Pressure             6000 non-null   object \n",
      " 18  Blood Sugar Levels         4794 non-null   float64\n",
      " 19  Doctor Name                6000 non-null   object \n",
      " 20  Healthcare Provider        6000 non-null   object \n",
      "dtypes: float64(3), int64(2), object(16)\n",
      "memory usage: 984.5+ KB\n"
     ]
    }
   ],
   "source": [
    "df.info()"
   ]
  },
  {
   "cell_type": "code",
   "execution_count": 5,
   "id": "afa375b2-624e-417f-be65-d31916a596c4",
   "metadata": {},
   "outputs": [
    {
     "data": {
      "text/plain": [
       "(6000, 21)"
      ]
     },
     "execution_count": 5,
     "metadata": {},
     "output_type": "execute_result"
    }
   ],
   "source": [
    "df.shape"
   ]
  },
  {
   "cell_type": "code",
   "execution_count": 6,
   "id": "c2b46574-2cbf-483d-aa98-1599e9c0e64f",
   "metadata": {},
   "outputs": [
    {
     "data": {
      "text/html": [
       "<div>\n",
       "<style scoped>\n",
       "    .dataframe tbody tr th:only-of-type {\n",
       "        vertical-align: middle;\n",
       "    }\n",
       "\n",
       "    .dataframe tbody tr th {\n",
       "        vertical-align: top;\n",
       "    }\n",
       "\n",
       "    .dataframe thead th {\n",
       "        text-align: right;\n",
       "    }\n",
       "</style>\n",
       "<table border=\"1\" class=\"dataframe\">\n",
       "  <thead>\n",
       "    <tr style=\"text-align: right;\">\n",
       "      <th></th>\n",
       "      <th>Age</th>\n",
       "      <th>Quality of Life Score</th>\n",
       "      <th>BMI</th>\n",
       "      <th>Risk Score</th>\n",
       "      <th>Blood Sugar Levels</th>\n",
       "    </tr>\n",
       "  </thead>\n",
       "  <tbody>\n",
       "    <tr>\n",
       "      <th>count</th>\n",
       "      <td>6000.000000</td>\n",
       "      <td>6000.000000</td>\n",
       "      <td>6000.000000</td>\n",
       "      <td>6000.000000</td>\n",
       "      <td>4794.000000</td>\n",
       "    </tr>\n",
       "    <tr>\n",
       "      <th>mean</th>\n",
       "      <td>49.025167</td>\n",
       "      <td>70.193533</td>\n",
       "      <td>25.011167</td>\n",
       "      <td>50.461000</td>\n",
       "      <td>134.520317</td>\n",
       "    </tr>\n",
       "    <tr>\n",
       "      <th>std</th>\n",
       "      <td>18.112322</td>\n",
       "      <td>14.877405</td>\n",
       "      <td>5.010807</td>\n",
       "      <td>28.903444</td>\n",
       "      <td>37.141933</td>\n",
       "    </tr>\n",
       "    <tr>\n",
       "      <th>min</th>\n",
       "      <td>18.000000</td>\n",
       "      <td>12.500000</td>\n",
       "      <td>5.400000</td>\n",
       "      <td>1.000000</td>\n",
       "      <td>70.000000</td>\n",
       "    </tr>\n",
       "    <tr>\n",
       "      <th>25%</th>\n",
       "      <td>33.000000</td>\n",
       "      <td>60.100000</td>\n",
       "      <td>21.700000</td>\n",
       "      <td>25.000000</td>\n",
       "      <td>102.600000</td>\n",
       "    </tr>\n",
       "    <tr>\n",
       "      <th>50%</th>\n",
       "      <td>49.000000</td>\n",
       "      <td>70.300000</td>\n",
       "      <td>25.100000</td>\n",
       "      <td>50.000000</td>\n",
       "      <td>134.400000</td>\n",
       "    </tr>\n",
       "    <tr>\n",
       "      <th>75%</th>\n",
       "      <td>65.000000</td>\n",
       "      <td>80.600000</td>\n",
       "      <td>28.400000</td>\n",
       "      <td>75.000000</td>\n",
       "      <td>166.300000</td>\n",
       "    </tr>\n",
       "    <tr>\n",
       "      <th>max</th>\n",
       "      <td>80.000000</td>\n",
       "      <td>130.300000</td>\n",
       "      <td>42.100000</td>\n",
       "      <td>100.000000</td>\n",
       "      <td>200.000000</td>\n",
       "    </tr>\n",
       "  </tbody>\n",
       "</table>\n",
       "</div>"
      ],
      "text/plain": [
       "               Age  Quality of Life Score          BMI   Risk Score  \\\n",
       "count  6000.000000            6000.000000  6000.000000  6000.000000   \n",
       "mean     49.025167              70.193533    25.011167    50.461000   \n",
       "std      18.112322              14.877405     5.010807    28.903444   \n",
       "min      18.000000              12.500000     5.400000     1.000000   \n",
       "25%      33.000000              60.100000    21.700000    25.000000   \n",
       "50%      49.000000              70.300000    25.100000    50.000000   \n",
       "75%      65.000000              80.600000    28.400000    75.000000   \n",
       "max      80.000000             130.300000    42.100000   100.000000   \n",
       "\n",
       "       Blood Sugar Levels  \n",
       "count         4794.000000  \n",
       "mean           134.520317  \n",
       "std             37.141933  \n",
       "min             70.000000  \n",
       "25%            102.600000  \n",
       "50%            134.400000  \n",
       "75%            166.300000  \n",
       "max            200.000000  "
      ]
     },
     "execution_count": 6,
     "metadata": {},
     "output_type": "execute_result"
    }
   ],
   "source": [
    "df.describe()"
   ]
  },
  {
   "cell_type": "markdown",
   "id": "68eae355-8d42-4e4b-8fa0-86ced52bf16a",
   "metadata": {},
   "source": [
    "**Handling missing values**"
   ]
  },
  {
   "cell_type": "code",
   "execution_count": 9,
   "id": "9f56694d-fa61-47b3-aed6-c6b69945d2fc",
   "metadata": {},
   "outputs": [],
   "source": [
    "df['Blood Sugar Levels'] = df['Blood Sugar Levels'].fillna(df['Blood Sugar Levels'].mean())\n",
    "df['Screening Completion Date'] = df['Screening Completion Date'].fillna('Not Available')"
   ]
  },
  {
   "cell_type": "markdown",
   "id": "5f357181-2e15-4333-a483-e644a6fb7195",
   "metadata": {},
   "source": [
    "**Feature encoding for categorical variables**"
   ]
  },
  {
   "cell_type": "code",
   "execution_count": 15,
   "id": "f7d2089b-f0f7-480e-94d6-eb9c05b212ab",
   "metadata": {},
   "outputs": [],
   "source": [
    "categorical_cols = ['Gender', 'Chronic Disease', 'Preventive Measures', 'Risk Factors', 'Lifestyle Interventions', 'Screening Status', 'Priority Level', 'Health Advice', 'Current Medications', 'Doctor Name', 'Healthcare Provider']\n",
    "encoder = OneHotEncoder(drop='first')"
   ]
  },
  {
   "cell_type": "markdown",
   "id": "a272d4e9-7130-4951-914f-dd1f516c2466",
   "metadata": {},
   "source": [
    "**Feature Scaling**"
   ]
  },
  {
   "cell_type": "code",
   "execution_count": 16,
   "id": "0ab5bde3-1204-4e33-b402-0263ed3589ef",
   "metadata": {},
   "outputs": [],
   "source": [
    "scaler = StandardScaler()\n",
    "numerical_cols = ['Age', 'Quality of Life Score', 'BMI', 'Risk Score', 'Blood Sugar Levels']"
   ]
  },
  {
   "cell_type": "markdown",
   "id": "61a674a0-8044-4fd2-9211-fb7dbee54734",
   "metadata": {},
   "source": [
    "**Preprocessing pipeline**"
   ]
  },
  {
   "cell_type": "code",
   "execution_count": 17,
   "id": "bc38ccfa-a338-43ab-a5fd-568701bdc1b9",
   "metadata": {},
   "outputs": [],
   "source": [
    "preprocessor = ColumnTransformer(\n",
    "    transformers=[\n",
    "        ('num', scaler, numerical_cols),\n",
    "        ('cat', encoder, categorical_cols)\n",
    "    ])"
   ]
  },
  {
   "cell_type": "markdown",
   "id": "0908066b-6cea-4c0a-8eee-a880e2d92713",
   "metadata": {},
   "source": [
    "**Split the dataset into features and target**"
   ]
  },
  {
   "cell_type": "code",
   "execution_count": 18,
   "id": "33256bb9-4dbc-4d88-9722-9937c2899770",
   "metadata": {},
   "outputs": [],
   "source": [
    "X = df.drop(['Patient ID', 'Diagnosis Date', 'Screening Completion Date'], axis=1)  # Exclude non-relevant columns\n",
    "y = df['Risk Score']  # Assuming Risk Score is the target (can be adjusted)"
   ]
  },
  {
   "cell_type": "markdown",
   "id": "ce9a1a8b-675b-4a7d-89c7-d2a509f36bd0",
   "metadata": {},
   "source": [
    "**Train-test split**"
   ]
  },
  {
   "cell_type": "code",
   "execution_count": 20,
   "id": "bb4a7593-1541-4659-b23f-dfb46a4287ee",
   "metadata": {},
   "outputs": [],
   "source": [
    "X_train, X_test, y_train, y_test = train_test_split(X, y, test_size=0.2, random_state=42)"
   ]
  },
  {
   "cell_type": "markdown",
   "id": "82df5b31-a7d3-410a-82de-42300186239b",
   "metadata": {},
   "source": [
    "**XGBoost model pipeline**"
   ]
  },
  {
   "cell_type": "code",
   "execution_count": 21,
   "id": "5669e157-b8e6-47ce-9bec-ecd0313db6fd",
   "metadata": {},
   "outputs": [],
   "source": [
    "xgb_pipeline = Pipeline(steps=[\n",
    "    ('preprocessor', preprocessor),\n",
    "    ('classifier', XGBClassifier(use_label_encoder=False, eval_metric='logloss'))\n",
    "])"
   ]
  },
  {
   "cell_type": "markdown",
   "id": "bd47a78a-6911-4380-b443-913a09c4e878",
   "metadata": {},
   "source": [
    "**Hyperparameter tuning using GridSearchCV**"
   ]
  },
  {
   "cell_type": "code",
   "execution_count": 22,
   "id": "64cfbb8b-f5fb-4db4-a672-832cc4a051db",
   "metadata": {},
   "outputs": [],
   "source": [
    "param_grid = {\n",
    "    'classifier__n_estimators': [100, 200],\n",
    "    'classifier__learning_rate': [0.01, 0.1, 0.3],\n",
    "    'classifier__max_depth': [3, 6, 10]\n",
    "}"
   ]
  },
  {
   "cell_type": "code",
   "execution_count": 23,
   "id": "2c1a3728-7380-4e8b-be3a-b2d70ed7a43d",
   "metadata": {},
   "outputs": [
    {
     "name": "stdout",
     "output_type": "stream",
     "text": [
      "Fitting 3 folds for each of 18 candidates, totalling 54 fits\n"
     ]
    },
    {
     "ename": "ValueError",
     "evalue": "\nAll the 54 fits failed.\nIt is very likely that your model is misconfigured.\nYou can try to debug the error by setting error_score='raise'.\n\nBelow are more details about the failures:\n--------------------------------------------------------------------------------\n54 fits failed with the following error:\nTraceback (most recent call last):\n  File \"D:\\Anaconda\\envs\\data_analysis\\Lib\\site-packages\\sklearn\\model_selection\\_validation.py\", line 888, in _fit_and_score\n    estimator.fit(X_train, y_train, **fit_params)\n  File \"D:\\Anaconda\\envs\\data_analysis\\Lib\\site-packages\\sklearn\\base.py\", line 1473, in wrapper\n    return fit_method(estimator, *args, **kwargs)\n           ^^^^^^^^^^^^^^^^^^^^^^^^^^^^^^^^^^^^^^\n  File \"D:\\Anaconda\\envs\\data_analysis\\Lib\\site-packages\\sklearn\\pipeline.py\", line 473, in fit\n    self._final_estimator.fit(Xt, y, **last_step_params[\"fit\"])\n  File \"D:\\Anaconda\\envs\\data_analysis\\Lib\\site-packages\\xgboost\\core.py\", line 726, in inner_f\n    return func(**kwargs)\n           ^^^^^^^^^^^^^^\n  File \"D:\\Anaconda\\envs\\data_analysis\\Lib\\site-packages\\xgboost\\sklearn.py\", line 1491, in fit\n    raise ValueError(\nValueError: Invalid classes inferred from unique values of `y`.  Expected: [ 0  1  2  3  4  5  6  7  8  9 10 11 12 13 14 15 16 17 18 19 20 21 22 23\n 24 25 26 27 28 29 30 31 32 33 34 35 36 37 38 39 40 41 42 43 44 45 46 47\n 48 49 50 51 52 53 54 55 56 57 58 59 60 61 62 63 64 65 66 67 68 69 70 71\n 72 73 74 75 76 77 78 79 80 81 82 83 84 85 86 87 88 89 90 91 92 93 94 95\n 96 97 98 99], got [-1.71139201 -1.67679117 -1.64219033 -1.6075895  -1.57298866 -1.53838782\n -1.50378699 -1.46918615 -1.43458531 -1.39998447 -1.36538364 -1.3307828\n -1.29618196 -1.26158113 -1.22698029 -1.19237945 -1.15777861 -1.12317778\n -1.08857694 -1.0539761  -1.01937526 -0.98477443 -0.95017359 -0.91557275\n -0.88097192 -0.84637108 -0.81177024 -0.7771694  -0.74256857 -0.70796773\n -0.67336689 -0.63876606 -0.60416522 -0.56956438 -0.53496354 -0.50036271\n -0.46576187 -0.43116103 -0.3965602  -0.36195936 -0.32735852 -0.29275768\n -0.25815685 -0.22355601 -0.18895517 -0.15435433 -0.1197535  -0.08515266\n -0.05055182 -0.01595099  0.01864985  0.05325069  0.08785153  0.12245236\n  0.1570532   0.19165404  0.22625487  0.26085571  0.29545655  0.33005739\n  0.36465822  0.39925906  0.4338599   0.46846073  0.50306157  0.53766241\n  0.57226325  0.60686408  0.64146492  0.67606576  0.7106666   0.74526743\n  0.77986827  0.81446911  0.84906994  0.88367078  0.91827162  0.95287246\n  0.98747329  1.02207413  1.05667497  1.0912758   1.12587664  1.16047748\n  1.19507832  1.22967915  1.26427999  1.29888083  1.33348166  1.3680825\n  1.40268334  1.43728418  1.47188501  1.50648585  1.54108669  1.57568753\n  1.61028836  1.6448892   1.67949004  1.71409087]\n",
     "output_type": "error",
     "traceback": [
      "\u001b[1;31m---------------------------------------------------------------------------\u001b[0m",
      "\u001b[1;31mValueError\u001b[0m                                Traceback (most recent call last)",
      "Cell \u001b[1;32mIn[23], line 2\u001b[0m\n\u001b[0;32m      1\u001b[0m grid_search \u001b[38;5;241m=\u001b[39m GridSearchCV(xgb_pipeline, param_grid, cv\u001b[38;5;241m=\u001b[39m\u001b[38;5;241m3\u001b[39m, verbose\u001b[38;5;241m=\u001b[39m\u001b[38;5;241m1\u001b[39m)\n\u001b[1;32m----> 2\u001b[0m grid_search\u001b[38;5;241m.\u001b[39mfit(X_train, y_train)\n",
      "File \u001b[1;32mD:\\Anaconda\\envs\\data_analysis\\Lib\\site-packages\\sklearn\\base.py:1473\u001b[0m, in \u001b[0;36m_fit_context.<locals>.decorator.<locals>.wrapper\u001b[1;34m(estimator, *args, **kwargs)\u001b[0m\n\u001b[0;32m   1466\u001b[0m     estimator\u001b[38;5;241m.\u001b[39m_validate_params()\n\u001b[0;32m   1468\u001b[0m \u001b[38;5;28;01mwith\u001b[39;00m config_context(\n\u001b[0;32m   1469\u001b[0m     skip_parameter_validation\u001b[38;5;241m=\u001b[39m(\n\u001b[0;32m   1470\u001b[0m         prefer_skip_nested_validation \u001b[38;5;129;01mor\u001b[39;00m global_skip_validation\n\u001b[0;32m   1471\u001b[0m     )\n\u001b[0;32m   1472\u001b[0m ):\n\u001b[1;32m-> 1473\u001b[0m     \u001b[38;5;28;01mreturn\u001b[39;00m fit_method(estimator, \u001b[38;5;241m*\u001b[39margs, \u001b[38;5;241m*\u001b[39m\u001b[38;5;241m*\u001b[39mkwargs)\n",
      "File \u001b[1;32mD:\\Anaconda\\envs\\data_analysis\\Lib\\site-packages\\sklearn\\model_selection\\_search.py:1018\u001b[0m, in \u001b[0;36mBaseSearchCV.fit\u001b[1;34m(self, X, y, **params)\u001b[0m\n\u001b[0;32m   1012\u001b[0m     results \u001b[38;5;241m=\u001b[39m \u001b[38;5;28mself\u001b[39m\u001b[38;5;241m.\u001b[39m_format_results(\n\u001b[0;32m   1013\u001b[0m         all_candidate_params, n_splits, all_out, all_more_results\n\u001b[0;32m   1014\u001b[0m     )\n\u001b[0;32m   1016\u001b[0m     \u001b[38;5;28;01mreturn\u001b[39;00m results\n\u001b[1;32m-> 1018\u001b[0m \u001b[38;5;28mself\u001b[39m\u001b[38;5;241m.\u001b[39m_run_search(evaluate_candidates)\n\u001b[0;32m   1020\u001b[0m \u001b[38;5;66;03m# multimetric is determined here because in the case of a callable\u001b[39;00m\n\u001b[0;32m   1021\u001b[0m \u001b[38;5;66;03m# self.scoring the return type is only known after calling\u001b[39;00m\n\u001b[0;32m   1022\u001b[0m first_test_score \u001b[38;5;241m=\u001b[39m all_out[\u001b[38;5;241m0\u001b[39m][\u001b[38;5;124m\"\u001b[39m\u001b[38;5;124mtest_scores\u001b[39m\u001b[38;5;124m\"\u001b[39m]\n",
      "File \u001b[1;32mD:\\Anaconda\\envs\\data_analysis\\Lib\\site-packages\\sklearn\\model_selection\\_search.py:1572\u001b[0m, in \u001b[0;36mGridSearchCV._run_search\u001b[1;34m(self, evaluate_candidates)\u001b[0m\n\u001b[0;32m   1570\u001b[0m \u001b[38;5;28;01mdef\u001b[39;00m \u001b[38;5;21m_run_search\u001b[39m(\u001b[38;5;28mself\u001b[39m, evaluate_candidates):\n\u001b[0;32m   1571\u001b[0m \u001b[38;5;250m    \u001b[39m\u001b[38;5;124;03m\"\"\"Search all candidates in param_grid\"\"\"\u001b[39;00m\n\u001b[1;32m-> 1572\u001b[0m     evaluate_candidates(ParameterGrid(\u001b[38;5;28mself\u001b[39m\u001b[38;5;241m.\u001b[39mparam_grid))\n",
      "File \u001b[1;32mD:\\Anaconda\\envs\\data_analysis\\Lib\\site-packages\\sklearn\\model_selection\\_search.py:995\u001b[0m, in \u001b[0;36mBaseSearchCV.fit.<locals>.evaluate_candidates\u001b[1;34m(candidate_params, cv, more_results)\u001b[0m\n\u001b[0;32m    988\u001b[0m \u001b[38;5;28;01melif\u001b[39;00m \u001b[38;5;28mlen\u001b[39m(out) \u001b[38;5;241m!=\u001b[39m n_candidates \u001b[38;5;241m*\u001b[39m n_splits:\n\u001b[0;32m    989\u001b[0m     \u001b[38;5;28;01mraise\u001b[39;00m \u001b[38;5;167;01mValueError\u001b[39;00m(\n\u001b[0;32m    990\u001b[0m         \u001b[38;5;124m\"\u001b[39m\u001b[38;5;124mcv.split and cv.get_n_splits returned \u001b[39m\u001b[38;5;124m\"\u001b[39m\n\u001b[0;32m    991\u001b[0m         \u001b[38;5;124m\"\u001b[39m\u001b[38;5;124minconsistent results. Expected \u001b[39m\u001b[38;5;132;01m{}\u001b[39;00m\u001b[38;5;124m \u001b[39m\u001b[38;5;124m\"\u001b[39m\n\u001b[0;32m    992\u001b[0m         \u001b[38;5;124m\"\u001b[39m\u001b[38;5;124msplits, got \u001b[39m\u001b[38;5;132;01m{}\u001b[39;00m\u001b[38;5;124m\"\u001b[39m\u001b[38;5;241m.\u001b[39mformat(n_splits, \u001b[38;5;28mlen\u001b[39m(out) \u001b[38;5;241m/\u001b[39m\u001b[38;5;241m/\u001b[39m n_candidates)\n\u001b[0;32m    993\u001b[0m     )\n\u001b[1;32m--> 995\u001b[0m _warn_or_raise_about_fit_failures(out, \u001b[38;5;28mself\u001b[39m\u001b[38;5;241m.\u001b[39merror_score)\n\u001b[0;32m    997\u001b[0m \u001b[38;5;66;03m# For callable self.scoring, the return type is only know after\u001b[39;00m\n\u001b[0;32m    998\u001b[0m \u001b[38;5;66;03m# calling. If the return type is a dictionary, the error scores\u001b[39;00m\n\u001b[0;32m    999\u001b[0m \u001b[38;5;66;03m# can now be inserted with the correct key. The type checking\u001b[39;00m\n\u001b[0;32m   1000\u001b[0m \u001b[38;5;66;03m# of out will be done in `_insert_error_scores`.\u001b[39;00m\n\u001b[0;32m   1001\u001b[0m \u001b[38;5;28;01mif\u001b[39;00m \u001b[38;5;28mcallable\u001b[39m(\u001b[38;5;28mself\u001b[39m\u001b[38;5;241m.\u001b[39mscoring):\n",
      "File \u001b[1;32mD:\\Anaconda\\envs\\data_analysis\\Lib\\site-packages\\sklearn\\model_selection\\_validation.py:529\u001b[0m, in \u001b[0;36m_warn_or_raise_about_fit_failures\u001b[1;34m(results, error_score)\u001b[0m\n\u001b[0;32m    522\u001b[0m \u001b[38;5;28;01mif\u001b[39;00m num_failed_fits \u001b[38;5;241m==\u001b[39m num_fits:\n\u001b[0;32m    523\u001b[0m     all_fits_failed_message \u001b[38;5;241m=\u001b[39m (\n\u001b[0;32m    524\u001b[0m         \u001b[38;5;124mf\u001b[39m\u001b[38;5;124m\"\u001b[39m\u001b[38;5;130;01m\\n\u001b[39;00m\u001b[38;5;124mAll the \u001b[39m\u001b[38;5;132;01m{\u001b[39;00mnum_fits\u001b[38;5;132;01m}\u001b[39;00m\u001b[38;5;124m fits failed.\u001b[39m\u001b[38;5;130;01m\\n\u001b[39;00m\u001b[38;5;124m\"\u001b[39m\n\u001b[0;32m    525\u001b[0m         \u001b[38;5;124m\"\u001b[39m\u001b[38;5;124mIt is very likely that your model is misconfigured.\u001b[39m\u001b[38;5;130;01m\\n\u001b[39;00m\u001b[38;5;124m\"\u001b[39m\n\u001b[0;32m    526\u001b[0m         \u001b[38;5;124m\"\u001b[39m\u001b[38;5;124mYou can try to debug the error by setting error_score=\u001b[39m\u001b[38;5;124m'\u001b[39m\u001b[38;5;124mraise\u001b[39m\u001b[38;5;124m'\u001b[39m\u001b[38;5;124m.\u001b[39m\u001b[38;5;130;01m\\n\u001b[39;00m\u001b[38;5;130;01m\\n\u001b[39;00m\u001b[38;5;124m\"\u001b[39m\n\u001b[0;32m    527\u001b[0m         \u001b[38;5;124mf\u001b[39m\u001b[38;5;124m\"\u001b[39m\u001b[38;5;124mBelow are more details about the failures:\u001b[39m\u001b[38;5;130;01m\\n\u001b[39;00m\u001b[38;5;132;01m{\u001b[39;00mfit_errors_summary\u001b[38;5;132;01m}\u001b[39;00m\u001b[38;5;124m\"\u001b[39m\n\u001b[0;32m    528\u001b[0m     )\n\u001b[1;32m--> 529\u001b[0m     \u001b[38;5;28;01mraise\u001b[39;00m \u001b[38;5;167;01mValueError\u001b[39;00m(all_fits_failed_message)\n\u001b[0;32m    531\u001b[0m \u001b[38;5;28;01melse\u001b[39;00m:\n\u001b[0;32m    532\u001b[0m     some_fits_failed_message \u001b[38;5;241m=\u001b[39m (\n\u001b[0;32m    533\u001b[0m         \u001b[38;5;124mf\u001b[39m\u001b[38;5;124m\"\u001b[39m\u001b[38;5;130;01m\\n\u001b[39;00m\u001b[38;5;132;01m{\u001b[39;00mnum_failed_fits\u001b[38;5;132;01m}\u001b[39;00m\u001b[38;5;124m fits failed out of a total of \u001b[39m\u001b[38;5;132;01m{\u001b[39;00mnum_fits\u001b[38;5;132;01m}\u001b[39;00m\u001b[38;5;124m.\u001b[39m\u001b[38;5;130;01m\\n\u001b[39;00m\u001b[38;5;124m\"\u001b[39m\n\u001b[0;32m    534\u001b[0m         \u001b[38;5;124m\"\u001b[39m\u001b[38;5;124mThe score on these train-test partitions for these parameters\u001b[39m\u001b[38;5;124m\"\u001b[39m\n\u001b[1;32m   (...)\u001b[0m\n\u001b[0;32m    538\u001b[0m         \u001b[38;5;124mf\u001b[39m\u001b[38;5;124m\"\u001b[39m\u001b[38;5;124mBelow are more details about the failures:\u001b[39m\u001b[38;5;130;01m\\n\u001b[39;00m\u001b[38;5;132;01m{\u001b[39;00mfit_errors_summary\u001b[38;5;132;01m}\u001b[39;00m\u001b[38;5;124m\"\u001b[39m\n\u001b[0;32m    539\u001b[0m     )\n",
      "\u001b[1;31mValueError\u001b[0m: \nAll the 54 fits failed.\nIt is very likely that your model is misconfigured.\nYou can try to debug the error by setting error_score='raise'.\n\nBelow are more details about the failures:\n--------------------------------------------------------------------------------\n54 fits failed with the following error:\nTraceback (most recent call last):\n  File \"D:\\Anaconda\\envs\\data_analysis\\Lib\\site-packages\\sklearn\\model_selection\\_validation.py\", line 888, in _fit_and_score\n    estimator.fit(X_train, y_train, **fit_params)\n  File \"D:\\Anaconda\\envs\\data_analysis\\Lib\\site-packages\\sklearn\\base.py\", line 1473, in wrapper\n    return fit_method(estimator, *args, **kwargs)\n           ^^^^^^^^^^^^^^^^^^^^^^^^^^^^^^^^^^^^^^\n  File \"D:\\Anaconda\\envs\\data_analysis\\Lib\\site-packages\\sklearn\\pipeline.py\", line 473, in fit\n    self._final_estimator.fit(Xt, y, **last_step_params[\"fit\"])\n  File \"D:\\Anaconda\\envs\\data_analysis\\Lib\\site-packages\\xgboost\\core.py\", line 726, in inner_f\n    return func(**kwargs)\n           ^^^^^^^^^^^^^^\n  File \"D:\\Anaconda\\envs\\data_analysis\\Lib\\site-packages\\xgboost\\sklearn.py\", line 1491, in fit\n    raise ValueError(\nValueError: Invalid classes inferred from unique values of `y`.  Expected: [ 0  1  2  3  4  5  6  7  8  9 10 11 12 13 14 15 16 17 18 19 20 21 22 23\n 24 25 26 27 28 29 30 31 32 33 34 35 36 37 38 39 40 41 42 43 44 45 46 47\n 48 49 50 51 52 53 54 55 56 57 58 59 60 61 62 63 64 65 66 67 68 69 70 71\n 72 73 74 75 76 77 78 79 80 81 82 83 84 85 86 87 88 89 90 91 92 93 94 95\n 96 97 98 99], got [-1.71139201 -1.67679117 -1.64219033 -1.6075895  -1.57298866 -1.53838782\n -1.50378699 -1.46918615 -1.43458531 -1.39998447 -1.36538364 -1.3307828\n -1.29618196 -1.26158113 -1.22698029 -1.19237945 -1.15777861 -1.12317778\n -1.08857694 -1.0539761  -1.01937526 -0.98477443 -0.95017359 -0.91557275\n -0.88097192 -0.84637108 -0.81177024 -0.7771694  -0.74256857 -0.70796773\n -0.67336689 -0.63876606 -0.60416522 -0.56956438 -0.53496354 -0.50036271\n -0.46576187 -0.43116103 -0.3965602  -0.36195936 -0.32735852 -0.29275768\n -0.25815685 -0.22355601 -0.18895517 -0.15435433 -0.1197535  -0.08515266\n -0.05055182 -0.01595099  0.01864985  0.05325069  0.08785153  0.12245236\n  0.1570532   0.19165404  0.22625487  0.26085571  0.29545655  0.33005739\n  0.36465822  0.39925906  0.4338599   0.46846073  0.50306157  0.53766241\n  0.57226325  0.60686408  0.64146492  0.67606576  0.7106666   0.74526743\n  0.77986827  0.81446911  0.84906994  0.88367078  0.91827162  0.95287246\n  0.98747329  1.02207413  1.05667497  1.0912758   1.12587664  1.16047748\n  1.19507832  1.22967915  1.26427999  1.29888083  1.33348166  1.3680825\n  1.40268334  1.43728418  1.47188501  1.50648585  1.54108669  1.57568753\n  1.61028836  1.6448892   1.67949004  1.71409087]\n"
     ]
    }
   ],
   "source": [
    "grid_search = GridSearchCV(xgb_pipeline, param_grid, cv=3, verbose=1)\n",
    "grid_search.fit(X_train, y_train)"
   ]
  },
  {
   "cell_type": "code",
   "execution_count": null,
   "id": "e093d3be-b002-4a81-a004-6416f615b471",
   "metadata": {},
   "outputs": [],
   "source": []
  }
 ],
 "metadata": {
  "kernelspec": {
   "display_name": "Python 3 (ipykernel)",
   "language": "python",
   "name": "python3"
  },
  "language_info": {
   "codemirror_mode": {
    "name": "ipython",
    "version": 3
   },
   "file_extension": ".py",
   "mimetype": "text/x-python",
   "name": "python",
   "nbconvert_exporter": "python",
   "pygments_lexer": "ipython3",
   "version": "3.11.10"
  }
 },
 "nbformat": 4,
 "nbformat_minor": 5
}
