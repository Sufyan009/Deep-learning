{
 "cells": [
  {
   "cell_type": "markdown",
   "id": "3553afd0-6436-4568-9246-930ac3c1c04f",
   "metadata": {},
   "source": [
    "### **What is BERT?**\n",
    "- **Bidirectional NLP Model**: BERT processes text in both forward and backward directions simultaneously, allowing it to understand context better than unidirectional models.\n",
    "- **Pre-Training Tasks**:\n",
    "  1. **Masked Language Modeling (MLM)**: Predicts missing words in a sentence, teaching the model context awareness.\n",
    "  2. **Next Sentence Prediction (NSP)**: Predicts whether two sentences are sequential, enabling tasks like question-answering and summarization.\n",
    "- **OpenAI GPT vs. BERT**: While GPT generates text by predicting the next word in a sequence, BERT is designed to understand existing text better by leveraging bidirectional context.\n",
    "\n",
    "---\n",
    "\n",
    "### **Architecture Overview**\n",
    "- **Transformer Encoder**: Uses the encoder part of the Transformer architecture.\n",
    "- **Key Features**:\n",
    "  - **Self-Attention Mechanism**: Assigns importance weights to all words in a sequence.\n",
    "  - **WordPiece Tokenization**: Breaks words into subwords, enabling better handling of rare or out-of-vocabulary words.\n",
    "\n",
    "---\n",
    "\n",
    "### **Strengths of BERT**\n",
    "1. **Contextual Understanding**:\n",
    "   - Unlike older models (e.g., Word2Vec, GloVe), which create static embeddings, BERT generates dynamic embeddings that change based on the context.\n",
    "2. **Versatility**:\n",
    "   - Pre-trained on a massive corpus, it can be fine-tuned for various tasks with minimal data (e.g., classification, summarization, Q&A).\n",
    "3. **Transfer Learning**:\n",
    "   - BERT's pre-trained model serves as a strong starting point for domain-specific tasks like healthcare or legal text analysis.\n",
    "\n",
    "---\n",
    "\n",
    "### **Drawbacks of BERT**\n",
    "1. **Resource-Intensive**:\n",
    "   - Requires significant computational resources for training and fine-tuning.\n",
    "   - Inferencing is slower compared to lightweight models like DistilBERT.\n",
    "2. **Short Input Limit**:\n",
    "   - Can only process sequences up to 512 tokens. Longer texts need chunking, which can dilute context.\n",
    "3. **Overfitting**:\n",
    "   - Fine-tuning on small datasets can lead to overfitting if regularization techniques are not applied.\n",
    "\n",
    "---\n",
    "\n",
    "### **When to Use BERT**\n",
    "1. **Text Classification**:\n",
    "   - Spam detection, sentiment analysis, or topic categorization.\n",
    "2. **Question-Answering**:\n",
    "   - Answering queries based on a passage, such as FAQ chatbots.\n",
    "3. **Named Entity Recognition (NER)**:\n",
    "   - Extracting entities like names, dates, and locations from text.\n",
    "4. **Summarization**:\n",
    "   - Generating concise summaries of articles or medical reports.\n",
    "5. **Translation**:\n",
    "   - Though not designed for machine translation, BERT-like models are often fine-tuned for it.\n",
    "\n",
    "---\n",
    "\n",
    "### **Real-World Applications**\n",
    "1. **Healthcare**:\n",
    "   - Extracting critical information from electronic health records.\n",
    "   - Diagnosing conditions using medical literature.\n",
    "   - Example: Fine-tuning BERT with clinical datasets like MIMIC-III.\n",
    "2. **Search Engines**:\n",
    "   - Google Search uses BERT to understand the intent behind user queries.\n",
    "   - Example: A query like \"What is the fastest route to a nearby pharmacy?\" considers both context and relevance.\n",
    "3. **Legal Domain**:\n",
    "   - Analyzing and summarizing legal documents.\n",
    "   - Identifying clauses, contracts, and obligations.\n",
    "4. **Customer Support**:\n",
    "   - Automating FAQs and providing accurate responses in chatbots.\n",
    "\n",
    "---\n",
    "\n",
    "### **Advancements Based on BERT**\n",
    "1. **DistilBERT**:\n",
    "   - A lightweight version of BERT with reduced size and faster inference.\n",
    "2. **RoBERTa**:\n",
    "   - Enhanced training methods like removing NSP and using larger batch sizes.\n",
    "3. **ALBERT**:\n",
    "   - Compresses BERT using parameter-sharing techniques, improving efficiency.\n",
    "4. **Domain-Specific Variants**:\n",
    "   - **BioBERT**: Optimized for medical texts.\n",
    "   - **SciBERT**: Specialized for scientific literature.\n",
    "   - **LegalBERT**: Focused on legal documentation.\n",
    "\n",
    "---\n",
    "\n",
    "### **Best Practices for Using BERT**\n",
    "1. **Fine-Tuning**:\n",
    "   - Always pre-process data to match BERT’s tokenization scheme.\n",
    "   - Use smaller learning rates during fine-tuning to avoid catastrophic forgetting.\n",
    "2. **Handling Long Texts**:\n",
    "   - For sequences longer than 512 tokens, use sliding windows or summarization to shorten input.\n",
    "3. **Regularization**:\n",
    "   - Use dropout layers and techniques like early stopping to prevent overfitting.\n",
    "\n",
    "---"
   ]
  },
  {
   "cell_type": "markdown",
   "id": "4cc054b7-0cfc-4d21-ab35-befa8a2727b6",
   "metadata": {},
   "source": [
    "## Classify spam vs no spam emails"
   ]
  },
  {
   "cell_type": "code",
   "execution_count": 21,
   "id": "b65a984d-aa04-4ba9-9875-2b80db1cfa21",
   "metadata": {},
   "outputs": [],
   "source": [
    "import tensorflow as tf\n",
    "import tensorflow_hub as hub\n",
    "import tensorflow_text as text\n",
    "import pandas as pd\n",
    "from sklearn.model_selection import train_test_split"
   ]
  },
  {
   "cell_type": "markdown",
   "id": "b090482b-b3ec-4905-810b-01b19bbef46c",
   "metadata": {},
   "source": [
    "df = pd.read_csv('spam.csv')\n",
    "df.head()"
   ]
  },
  {
   "cell_type": "code",
   "execution_count": 5,
   "id": "d82d7177-6c10-4814-942e-56dc3a6a9f9d",
   "metadata": {},
   "outputs": [
    {
     "data": {
      "text/html": [
       "<div>\n",
       "<style scoped>\n",
       "    .dataframe tbody tr th:only-of-type {\n",
       "        vertical-align: middle;\n",
       "    }\n",
       "\n",
       "    .dataframe tbody tr th {\n",
       "        vertical-align: top;\n",
       "    }\n",
       "\n",
       "    .dataframe thead tr th {\n",
       "        text-align: left;\n",
       "    }\n",
       "\n",
       "    .dataframe thead tr:last-of-type th {\n",
       "        text-align: right;\n",
       "    }\n",
       "</style>\n",
       "<table border=\"1\" class=\"dataframe\">\n",
       "  <thead>\n",
       "    <tr>\n",
       "      <th></th>\n",
       "      <th colspan=\"4\" halign=\"left\">Message</th>\n",
       "    </tr>\n",
       "    <tr>\n",
       "      <th></th>\n",
       "      <th>count</th>\n",
       "      <th>unique</th>\n",
       "      <th>top</th>\n",
       "      <th>freq</th>\n",
       "    </tr>\n",
       "    <tr>\n",
       "      <th>Category</th>\n",
       "      <th></th>\n",
       "      <th></th>\n",
       "      <th></th>\n",
       "      <th></th>\n",
       "    </tr>\n",
       "  </thead>\n",
       "  <tbody>\n",
       "    <tr>\n",
       "      <th>ham</th>\n",
       "      <td>4825</td>\n",
       "      <td>4516</td>\n",
       "      <td>Sorry, I'll call later</td>\n",
       "      <td>30</td>\n",
       "    </tr>\n",
       "    <tr>\n",
       "      <th>spam</th>\n",
       "      <td>747</td>\n",
       "      <td>641</td>\n",
       "      <td>Please call our customer service representativ...</td>\n",
       "      <td>4</td>\n",
       "    </tr>\n",
       "  </tbody>\n",
       "</table>\n",
       "</div>"
      ],
      "text/plain": [
       "         Message                                                            \\\n",
       "           count unique                                                top   \n",
       "Category                                                                     \n",
       "ham         4825   4516                             Sorry, I'll call later   \n",
       "spam         747    641  Please call our customer service representativ...   \n",
       "\n",
       "               \n",
       "         freq  \n",
       "Category       \n",
       "ham        30  \n",
       "spam        4  "
      ]
     },
     "execution_count": 5,
     "metadata": {},
     "output_type": "execute_result"
    }
   ],
   "source": [
    "df.groupby('Category').describe()"
   ]
  },
  {
   "cell_type": "markdown",
   "id": "a2ac12a2-3080-4fc7-a4ec-f4d1ce1811fc",
   "metadata": {},
   "source": [
    "now we can see we have a imbalance in dataset."
   ]
  },
  {
   "cell_type": "code",
   "execution_count": 6,
   "id": "f824075f-f41f-403c-bba1-950fcfcf6907",
   "metadata": {},
   "outputs": [
    {
     "data": {
      "text/plain": [
       "Category\n",
       "ham     4825\n",
       "spam     747\n",
       "Name: count, dtype: int64"
      ]
     },
     "execution_count": 6,
     "metadata": {},
     "output_type": "execute_result"
    }
   ],
   "source": [
    "df['Category'].value_counts()"
   ]
  },
  {
   "cell_type": "code",
   "execution_count": 7,
   "id": "fd6f5314-21fb-4f01-90dc-3eb992fbb20d",
   "metadata": {},
   "outputs": [
    {
     "data": {
      "text/plain": [
       "0.15481865284974095"
      ]
     },
     "execution_count": 7,
     "metadata": {},
     "output_type": "execute_result"
    }
   ],
   "source": [
    "747/4825"
   ]
  },
  {
   "cell_type": "code",
   "execution_count": 9,
   "id": "61e13046-e885-47a6-9547-c13ec57fee52",
   "metadata": {},
   "outputs": [
    {
     "data": {
      "text/plain": [
       "(747, 2)"
      ]
     },
     "execution_count": 9,
     "metadata": {},
     "output_type": "execute_result"
    }
   ],
   "source": [
    "df_spam = df[df['Category'] == 'spam']\n",
    "df_spam.shape"
   ]
  },
  {
   "cell_type": "code",
   "execution_count": 10,
   "id": "8e522df3-ca5d-4446-8032-e79439f9ec90",
   "metadata": {},
   "outputs": [
    {
     "data": {
      "text/plain": [
       "(4825, 2)"
      ]
     },
     "execution_count": 10,
     "metadata": {},
     "output_type": "execute_result"
    }
   ],
   "source": [
    "df_ham = df[df['Category'] == 'ham']\n",
    "df_ham.shape"
   ]
  },
  {
   "cell_type": "code",
   "execution_count": 14,
   "id": "d9f96cb1-c9e6-4a03-9d25-d09242624dc3",
   "metadata": {},
   "outputs": [
    {
     "data": {
      "text/plain": [
       "(747, 2)"
      ]
     },
     "execution_count": 14,
     "metadata": {},
     "output_type": "execute_result"
    }
   ],
   "source": [
    "df_ham_downsampled = df_ham.sample(df_spam.shape[0])\n",
    "df_ham_downsampled.shape"
   ]
  },
  {
   "cell_type": "code",
   "execution_count": 15,
   "id": "e9530ffe-bef2-4c60-984c-c5bf81a2c2db",
   "metadata": {},
   "outputs": [
    {
     "data": {
      "text/plain": [
       "(1494, 2)"
      ]
     },
     "execution_count": 15,
     "metadata": {},
     "output_type": "execute_result"
    }
   ],
   "source": [
    "df_balanced = pd.concat([df_ham_downsampled, df_spam])\n",
    "df_balanced.shape"
   ]
  },
  {
   "cell_type": "code",
   "execution_count": 16,
   "id": "d20bbf94-3f71-43bc-8102-a0829ece8822",
   "metadata": {},
   "outputs": [
    {
     "data": {
      "text/plain": [
       "Category\n",
       "ham     747\n",
       "spam    747\n",
       "Name: count, dtype: int64"
      ]
     },
     "execution_count": 16,
     "metadata": {},
     "output_type": "execute_result"
    }
   ],
   "source": [
    "df_balanced['Category'].value_counts()"
   ]
  },
  {
   "cell_type": "code",
   "execution_count": 19,
   "id": "d0de3aac-640b-4616-9a8b-27d2afd71a23",
   "metadata": {},
   "outputs": [
    {
     "data": {
      "text/html": [
       "<div>\n",
       "<style scoped>\n",
       "    .dataframe tbody tr th:only-of-type {\n",
       "        vertical-align: middle;\n",
       "    }\n",
       "\n",
       "    .dataframe tbody tr th {\n",
       "        vertical-align: top;\n",
       "    }\n",
       "\n",
       "    .dataframe thead th {\n",
       "        text-align: right;\n",
       "    }\n",
       "</style>\n",
       "<table border=\"1\" class=\"dataframe\">\n",
       "  <thead>\n",
       "    <tr style=\"text-align: right;\">\n",
       "      <th></th>\n",
       "      <th>Category</th>\n",
       "      <th>Message</th>\n",
       "      <th>spam</th>\n",
       "    </tr>\n",
       "  </thead>\n",
       "  <tbody>\n",
       "    <tr>\n",
       "      <th>3426</th>\n",
       "      <td>ham</td>\n",
       "      <td>True. Its easier with her here.</td>\n",
       "      <td>0</td>\n",
       "    </tr>\n",
       "    <tr>\n",
       "      <th>3885</th>\n",
       "      <td>spam</td>\n",
       "      <td>A link to your picture has been sent. You can ...</td>\n",
       "      <td>1</td>\n",
       "    </tr>\n",
       "    <tr>\n",
       "      <th>4377</th>\n",
       "      <td>spam</td>\n",
       "      <td>If you don't, your prize will go to another cu...</td>\n",
       "      <td>1</td>\n",
       "    </tr>\n",
       "    <tr>\n",
       "      <th>3192</th>\n",
       "      <td>spam</td>\n",
       "      <td>UR awarded a City Break and could WIN a £200 S...</td>\n",
       "      <td>1</td>\n",
       "    </tr>\n",
       "    <tr>\n",
       "      <th>2352</th>\n",
       "      <td>spam</td>\n",
       "      <td>Download as many ringtones as u like no restri...</td>\n",
       "      <td>1</td>\n",
       "    </tr>\n",
       "    <tr>\n",
       "      <th>4965</th>\n",
       "      <td>spam</td>\n",
       "      <td>Dear Voucher holder Have your next meal on us....</td>\n",
       "      <td>1</td>\n",
       "    </tr>\n",
       "    <tr>\n",
       "      <th>611</th>\n",
       "      <td>spam</td>\n",
       "      <td>22 days to kick off! For Euro2004 U will be ke...</td>\n",
       "      <td>1</td>\n",
       "    </tr>\n",
       "    <tr>\n",
       "      <th>4249</th>\n",
       "      <td>spam</td>\n",
       "      <td>accordingly. I repeat, just text the word ok o...</td>\n",
       "      <td>1</td>\n",
       "    </tr>\n",
       "    <tr>\n",
       "      <th>2032</th>\n",
       "      <td>ham</td>\n",
       "      <td>I noe la... U wana pei bf oso rite... K lor, o...</td>\n",
       "      <td>0</td>\n",
       "    </tr>\n",
       "    <tr>\n",
       "      <th>1781</th>\n",
       "      <td>spam</td>\n",
       "      <td>BIG BROTHER ALERT! The computer has selected u...</td>\n",
       "      <td>1</td>\n",
       "    </tr>\n",
       "  </tbody>\n",
       "</table>\n",
       "</div>"
      ],
      "text/plain": [
       "     Category                                            Message  spam\n",
       "3426      ham                    True. Its easier with her here.     0\n",
       "3885     spam  A link to your picture has been sent. You can ...     1\n",
       "4377     spam  If you don't, your prize will go to another cu...     1\n",
       "3192     spam  UR awarded a City Break and could WIN a £200 S...     1\n",
       "2352     spam  Download as many ringtones as u like no restri...     1\n",
       "4965     spam  Dear Voucher holder Have your next meal on us....     1\n",
       "611      spam  22 days to kick off! For Euro2004 U will be ke...     1\n",
       "4249     spam  accordingly. I repeat, just text the word ok o...     1\n",
       "2032      ham  I noe la... U wana pei bf oso rite... K lor, o...     0\n",
       "1781     spam  BIG BROTHER ALERT! The computer has selected u...     1"
      ]
     },
     "execution_count": 19,
     "metadata": {},
     "output_type": "execute_result"
    }
   ],
   "source": [
    "df_balanced['spam']=df_balanced['Category'].apply(lambda x: 1 if x=='spam' else 0)\n",
    "df_balanced.sample(10)"
   ]
  },
  {
   "cell_type": "code",
   "execution_count": 22,
   "id": "5d6bb219-8771-4de1-9313-a172385b97d2",
   "metadata": {},
   "outputs": [],
   "source": [
    "X_train, X_test, y_train, y_test = train_test_split(df_balanced['Message'],df_balanced['spam'], stratify=df_balanced['spam'])"
   ]
  },
  {
   "cell_type": "code",
   "execution_count": 23,
   "id": "9aaf741d-f475-47ba-899b-cbba4f73ba16",
   "metadata": {},
   "outputs": [
    {
     "data": {
      "text/plain": [
       "5456    For the most sparkling shopping breaks from 45...\n",
       "5537    Want explicit SEX in 30 secs? Ring 02073162414...\n",
       "2575    Your next amazing xxx PICSFREE1 video will be ...\n",
       "1072    URGENT! We are trying to contact U. Todays dra...\n",
       "2620    <Forwarded from 21870000>Hi - this is your Mai...\n",
       "5529                            What about this one then.\n",
       "3442    Get a FREE mobile video player FREE movie. To ...\n",
       "745       Men like shorter ladies. Gaze up into his eyes.\n",
       "2420    SMS SERVICES For your inclusive text credits p...\n",
       "3725    Hi there, 2nights ur lucky night! Uve been inv...\n",
       "Name: Message, dtype: object"
      ]
     },
     "execution_count": 23,
     "metadata": {},
     "output_type": "execute_result"
    }
   ],
   "source": [
    "X_train.head(10)"
   ]
  },
  {
   "cell_type": "markdown",
   "id": "a534c393-6198-4fc8-b99d-2d1f3ca64e9d",
   "metadata": {},
   "source": [
    "**importing BERT model and get embeding vectors for few sample statements**"
   ]
  },
  {
   "cell_type": "code",
   "execution_count": 26,
   "id": "8310461c-69d1-4c05-abb1-7163abfa8a26",
   "metadata": {},
   "outputs": [],
   "source": [
    "bert_preprocess =  hub.KerasLayer(\"https://tfhub.dev/tensorflow/bert_en_uncased_preprocess/3\")\n",
    "bert_encoder =  hub.KerasLayer(\"https://tfhub.dev/tensorflow/bert_en_uncased_L-12_H-768_A-12/4\")"
   ]
  },
  {
   "cell_type": "code",
   "execution_count": 30,
   "id": "9d8c43b1-ddb8-4fd5-a883-aa14ee1eff9e",
   "metadata": {},
   "outputs": [
    {
     "data": {
      "text/plain": [
       "<tf.Tensor: shape=(2, 768), dtype=float32, numpy=\n",
       "array([[-0.799545  , -0.41840777, -0.80555636, ..., -0.59523046,\n",
       "        -0.7051719 ,  0.88296854],\n",
       "       [-0.90907633, -0.5276207 , -0.94845015, ..., -0.88698876,\n",
       "        -0.7406729 ,  0.8881076 ]], dtype=float32)>"
      ]
     },
     "execution_count": 30,
     "metadata": {},
     "output_type": "execute_result"
    }
   ],
   "source": [
    "def get_sentence_embeding(sentences):\n",
    "    preprocessed_text = bert_preprocess(sentences)\n",
    "    return bert_encoder(preprocessed_text)['pooled_output']\n",
    "\n",
    "get_sentence_embeding([\n",
    "    \"500$ discount. hurry up!\",\n",
    "    \"Ali, are you up for a football game tomorrow?\"\n",
    "])"
   ]
  },
  {
   "cell_type": "code",
   "execution_count": 31,
   "id": "d85f93bc-05ec-4255-90d6-0c091a44b7a5",
   "metadata": {},
   "outputs": [],
   "source": [
    "e = get_sentence_embeding([\n",
    "    \"banana\", \n",
    "    \"grapes\",\n",
    "    \"mango\",\n",
    "    \"jeff bezos\",\n",
    "    \"elon musk\",\n",
    "    \"bill gates\"\n",
    "])"
   ]
  },
  {
   "cell_type": "code",
   "execution_count": 34,
   "id": "fefe1e65-d65a-4fd6-89a8-9583a62dc87d",
   "metadata": {},
   "outputs": [
    {
     "data": {
      "text/plain": [
       "<tf.Tensor: shape=(6, 768), dtype=float32, numpy=\n",
       "array([[-0.7606917 , -0.14219394,  0.4960459 , ...,  0.42165306,\n",
       "        -0.5322142 ,  0.80312175],\n",
       "       [-0.8602322 , -0.21242936,  0.49156928, ...,  0.39798063,\n",
       "        -0.60506284,  0.8447163 ],\n",
       "       [-0.7128859 , -0.15463904,  0.38401678, ...,  0.35278738,\n",
       "        -0.50991327,  0.7347408 ],\n",
       "       [-0.82533467, -0.35550585, -0.590697  , ..., -0.016137  ,\n",
       "        -0.6141757 ,  0.872303  ],\n",
       "       [-0.75041336, -0.2681263 , -0.26689744, ...,  0.02839341,\n",
       "        -0.59381   ,  0.79749876],\n",
       "       [-0.7854437 , -0.29949695,  0.4102739 , ...,  0.5222542 ,\n",
       "        -0.4957355 ,  0.815075  ]], dtype=float32)>"
      ]
     },
     "execution_count": 34,
     "metadata": {},
     "output_type": "execute_result"
    }
   ],
   "source": [
    "e"
   ]
  },
  {
   "cell_type": "markdown",
   "id": "c24e5d0e-028a-4197-883b-3e244aa677aa",
   "metadata": {},
   "source": [
    "**Cosine Similarity**\n",
    "\n",
    "Cosine similarity is a metric used to measure the similarity between two non-zero vectors of an inner product space. It calculates the cosine of the angle between the vectors. \n",
    "\n",
    "**Key Points:**\n",
    "\n",
    "* **Range:** The cosine similarity ranges from -1 to 1. \n",
    "    - 1: Perfect similarity\n",
    "    - -1: Perfect dissimilarity\n",
    "    - 0: Orthogonal (no similarity)\n",
    "* **Applications:**\n",
    "    - Document similarity\n",
    "    - Recommendation systems\n",
    "    - Natural language processing\n",
    "    - Image and video analysis\n",
    "\n",
    "**Calculation:**\n",
    "\n",
    "Given two vectors, A and B, the cosine similarity is calculated as:\n",
    "\n",
    "```\n",
    "Cosine Similarity(A, B) = (A · B) / (||A|| ||B||)\n",
    "```\n",
    "\n",
    "where:\n",
    "- `A · B` is the dot product of A and B.\n",
    "- `||A||` and `||B||` are the magnitudes (norms) of A and B, respectively.\n",
    "\n",
    "**Interpretation:**\n",
    "\n",
    "A higher cosine similarity value indicates that the two vectors are more similar in direction, regardless of their magnitude. \n",
    "\n",
    "**Example:**\n",
    "\n",
    "Consider two documents:\n",
    "\n",
    "* Document A: \"The quick brown fox jumps over the lazy dog\"\n",
    "* Document B: \"The lazy dog is jumped over by the quick brown fox\"\n",
    "\n",
    "By converting these documents into numerical representations (e.g., using TF-IDF), we can calculate their cosine similarity. If the documents are highly similar, the cosine similarity will be close to 1.\n"
   ]
  },
  {
   "cell_type": "code",
   "execution_count": 33,
   "id": "bb9f3ca5-3776-42e6-94b3-326f1495083a",
   "metadata": {},
   "outputs": [
    {
     "data": {
      "text/plain": [
       "array([[0.9911088]], dtype=float32)"
      ]
     },
     "execution_count": 33,
     "metadata": {},
     "output_type": "execute_result"
    }
   ],
   "source": [
    "from sklearn.metrics.pairwise import cosine_similarity\n",
    "cosine_similarity([e[0]],[e[1]])"
   ]
  },
  {
   "cell_type": "markdown",
   "id": "c25e8746-342c-4ebe-bd8a-6c46029649bb",
   "metadata": {},
   "source": [
    "Values near to 1 means they are similar. 0 means they are very different. Above you can use comparing \"banana\" vs \"grapes\" you get 0.99 similarity as they both are fruits"
   ]
  },
  {
   "cell_type": "code",
   "execution_count": 35,
   "id": "7177579e-8c76-43a3-aff8-d6425cd84b7e",
   "metadata": {},
   "outputs": [
    {
     "data": {
      "text/plain": [
       "array([[0.8470383]], dtype=float32)"
      ]
     },
     "execution_count": 35,
     "metadata": {},
     "output_type": "execute_result"
    }
   ],
   "source": [
    "cosine_similarity([e[0]],[e[3]])"
   ]
  },
  {
   "cell_type": "code",
   "execution_count": 36,
   "id": "1c606e80-7d13-4c93-8aae-31c5fb809cde",
   "metadata": {},
   "outputs": [
    {
     "data": {
      "text/plain": [
       "array([[0.98720354]], dtype=float32)"
      ]
     },
     "execution_count": 36,
     "metadata": {},
     "output_type": "execute_result"
    }
   ],
   "source": [
    "cosine_similarity([e[3]],[e[4]])"
   ]
  },
  {
   "cell_type": "markdown",
   "id": "909689ac-2b48-4fc1-b1cf-6cbf41749031",
   "metadata": {},
   "source": [
    "Jeff bezos and Elon musk are more similar then Jeff bezos and banana as indicated above"
   ]
  },
  {
   "cell_type": "markdown",
   "id": "9ef77741-661a-42b3-b923-ff9b3f132e4f",
   "metadata": {},
   "source": [
    "**Building Models**\n",
    "\n",
    "There are two types of models you can build in tensorflow.\n",
    "\n",
    "(1) Sequential (2) Functional"
   ]
  },
  {
   "cell_type": "code",
   "execution_count": 44,
   "id": "3992afe7-e3c9-4259-a3f9-a5bb8ac53c14",
   "metadata": {},
   "outputs": [],
   "source": [
    "# Bert layers\n",
    "text_input = tf.keras.layers.Input(shape=(), dtype=tf.string, name='text')\n",
    "preprocessed_text = bert_preprocess(text_input)\n",
    "outputs = bert_encoder(preprocessed_text)\n",
    "\n",
    "# Neural network layers\n",
    "l = tf.keras.layers.Dropout(0.1, name=\"dropout\")(outputs['pooled_output'])\n",
    "l = tf.keras.layers.Dense(1, activation='sigmoid', name=\"output\")(l)\n",
    "\n",
    "# Use inputs and outputs to construct a final model\n",
    "model = tf.keras.Model(inputs=[text_input], outputs = [l])"
   ]
  },
  {
   "cell_type": "code",
   "execution_count": 47,
   "id": "1c78ff12-4ee3-4ab0-83b6-10ec3a88f8e0",
   "metadata": {},
   "outputs": [
    {
     "name": "stdout",
     "output_type": "stream",
     "text": [
      "Model: \"model_2\"\n",
      "__________________________________________________________________________________________________\n",
      " Layer (type)                   Output Shape         Param #     Connected to                     \n",
      "==================================================================================================\n",
      " text (InputLayer)              [(None,)]            0           []                               \n",
      "                                                                                                  \n",
      " keras_layer_2 (KerasLayer)     {'input_word_ids':   0           ['text[0][0]']                   \n",
      "                                (None, 128),                                                      \n",
      "                                 'input_mask': (Non                                               \n",
      "                                e, 128),                                                          \n",
      "                                 'input_type_ids':                                                \n",
      "                                (None, 128)}                                                      \n",
      "                                                                                                  \n",
      " keras_layer_3 (KerasLayer)     {'default': (None,   109482241   ['keras_layer_2[6][0]',          \n",
      "                                768),                             'keras_layer_2[6][1]',          \n",
      "                                 'sequence_output':               'keras_layer_2[6][2]']          \n",
      "                                 (None, 128, 768),                                                \n",
      "                                 'pooled_output': (                                               \n",
      "                                None, 768),                                                       \n",
      "                                 'encoder_outputs':                                               \n",
      "                                 [(None, 128, 768),                                               \n",
      "                                 (None, 128, 768),                                                \n",
      "                                 (None, 128, 768),                                                \n",
      "                                 (None, 128, 768),                                                \n",
      "                                 (None, 128, 768),                                                \n",
      "                                 (None, 128, 768),                                                \n",
      "                                 (None, 128, 768),                                                \n",
      "                                 (None, 128, 768),                                                \n",
      "                                 (None, 128, 768),                                                \n",
      "                                 (None, 128, 768),                                                \n",
      "                                 (None, 128, 768),                                                \n",
      "                                 (None, 128, 768)]}                                               \n",
      "                                                                                                  \n",
      " dropout (Dropout)              (None, 768)          0           ['keras_layer_3[3][13]']         \n",
      "                                                                                                  \n",
      " output (Dense)                 (None, 1)            769         ['dropout[0][0]']                \n",
      "                                                                                                  \n",
      "==================================================================================================\n",
      "Total params: 109,483,010\n",
      "Trainable params: 769\n",
      "Non-trainable params: 109,482,241\n",
      "__________________________________________________________________________________________________\n"
     ]
    }
   ],
   "source": [
    "model.summary()"
   ]
  },
  {
   "cell_type": "code",
   "execution_count": 48,
   "id": "36ea2446-dedb-43ce-8786-6a9f364839b3",
   "metadata": {},
   "outputs": [
    {
     "data": {
      "text/plain": [
       "1120"
      ]
     },
     "execution_count": 48,
     "metadata": {},
     "output_type": "execute_result"
    }
   ],
   "source": [
    "len(X_train)"
   ]
  },
  {
   "cell_type": "code",
   "execution_count": 49,
   "id": "65ca01a2-ea2a-420b-9c2a-efee0e729fc1",
   "metadata": {},
   "outputs": [],
   "source": [
    "METRICS = [\n",
    "      tf.keras.metrics.BinaryAccuracy(name='accuracy'),\n",
    "      tf.keras.metrics.Precision(name='precision'),\n",
    "      tf.keras.metrics.Recall(name='recall')\n",
    "]\n",
    "\n",
    "model.compile(optimizer='adam',\n",
    "              loss='binary_crossentropy',\n",
    "              metrics=METRICS)"
   ]
  },
  {
   "cell_type": "code",
   "execution_count": 50,
   "id": "0cd2ca79-e599-4208-953d-e47ee69d7506",
   "metadata": {},
   "outputs": [
    {
     "name": "stdout",
     "output_type": "stream",
     "text": [
      "Epoch 1/10\n",
      "35/35 [==============================] - 310s 8s/step - loss: 0.6233 - accuracy: 0.6652 - precision: 0.6649 - recall: 0.6661\n",
      "Epoch 2/10\n",
      "35/35 [==============================] - 266s 8s/step - loss: 0.5017 - accuracy: 0.8232 - precision: 0.8164 - recall: 0.8339\n",
      "Epoch 3/10\n",
      "35/35 [==============================] - 256s 7s/step - loss: 0.4334 - accuracy: 0.8473 - precision: 0.8302 - recall: 0.8732\n",
      "Epoch 4/10\n",
      "35/35 [==============================] - 265s 8s/step - loss: 0.3830 - accuracy: 0.8830 - precision: 0.8629 - recall: 0.9107\n",
      "Epoch 5/10\n",
      "35/35 [==============================] - 254s 7s/step - loss: 0.3494 - accuracy: 0.8911 - precision: 0.8763 - recall: 0.9107\n",
      "Epoch 6/10\n",
      "35/35 [==============================] - 263s 8s/step - loss: 0.3268 - accuracy: 0.8991 - precision: 0.8873 - recall: 0.9143\n",
      "Epoch 7/10\n",
      "35/35 [==============================] - 259s 7s/step - loss: 0.3152 - accuracy: 0.8884 - precision: 0.8769 - recall: 0.9036\n",
      "Epoch 8/10\n",
      "35/35 [==============================] - 263s 8s/step - loss: 0.2944 - accuracy: 0.9054 - precision: 0.8887 - recall: 0.9268\n",
      "Epoch 9/10\n",
      "35/35 [==============================] - 276s 8s/step - loss: 0.2829 - accuracy: 0.9045 - precision: 0.8912 - recall: 0.9214\n",
      "Epoch 10/10\n",
      "35/35 [==============================] - 262s 7s/step - loss: 0.2722 - accuracy: 0.9152 - precision: 0.9043 - recall: 0.9286\n"
     ]
    },
    {
     "data": {
      "text/plain": [
       "<keras.callbacks.History at 0x150bed33d60>"
      ]
     },
     "execution_count": 50,
     "metadata": {},
     "output_type": "execute_result"
    }
   ],
   "source": [
    "model.fit(X_train, y_train, epochs=10)"
   ]
  },
  {
   "cell_type": "code",
   "execution_count": 51,
   "id": "7913f78c-1695-4874-94ae-1ff51279814a",
   "metadata": {},
   "outputs": [
    {
     "name": "stdout",
     "output_type": "stream",
     "text": [
      "12/12 [==============================] - 92s 7s/step - loss: 0.2928 - accuracy: 0.8984 - precision: 0.8565 - recall: 0.9572\n"
     ]
    },
    {
     "data": {
      "text/plain": [
       "[0.2927825152873993,\n",
       " 0.8983957171440125,\n",
       " 0.8564593195915222,\n",
       " 0.9572192430496216]"
      ]
     },
     "execution_count": 51,
     "metadata": {},
     "output_type": "execute_result"
    }
   ],
   "source": [
    "model.evaluate(X_test, y_test)"
   ]
  },
  {
   "cell_type": "code",
   "execution_count": 52,
   "id": "5ec2c74b-4e62-46b9-9d86-7c2191ab994a",
   "metadata": {},
   "outputs": [
    {
     "name": "stdout",
     "output_type": "stream",
     "text": [
      "12/12 [==============================] - 89s 7s/step\n"
     ]
    }
   ],
   "source": [
    "y_predicted = model.predict(X_test)\n",
    "y_predicted = y_predicted.flatten()"
   ]
  },
  {
   "cell_type": "code",
   "execution_count": 53,
   "id": "641b66f4-8c43-40c2-9b6c-a57857e0b1e8",
   "metadata": {},
   "outputs": [
    {
     "data": {
      "text/plain": [
       "array([1, 1, 0, 1, 0, 1, 0, 0, 1, 1, 0, 1, 1, 1, 1, 0, 1, 0, 0, 0, 1, 0,\n",
       "       1, 0, 1, 0, 0, 0, 0, 0, 0, 1, 1, 1, 1, 1, 1, 0, 1, 0, 0, 1, 0, 0,\n",
       "       1, 0, 0, 1, 0, 0, 0, 0, 1, 1, 0, 0, 0, 0, 1, 0, 1, 0, 0, 1, 0, 0,\n",
       "       1, 1, 1, 1, 0, 0, 1, 0, 0, 1, 0, 0, 1, 0, 1, 0, 1, 0, 0, 1, 1, 1,\n",
       "       1, 1, 1, 1, 0, 0, 1, 1, 1, 1, 0, 0, 0, 1, 1, 1, 0, 1, 1, 0, 0, 1,\n",
       "       1, 1, 1, 1, 0, 1, 1, 1, 0, 0, 1, 0, 1, 0, 1, 0, 0, 0, 0, 1, 1, 1,\n",
       "       1, 0, 1, 0, 1, 0, 1, 0, 1, 1, 1, 1, 1, 1, 0, 1, 0, 0, 0, 1, 1, 1,\n",
       "       1, 0, 0, 1, 1, 1, 1, 0, 0, 0, 1, 0, 1, 0, 1, 0, 0, 0, 1, 1, 1, 0,\n",
       "       1, 1, 1, 1, 0, 1, 1, 0, 1, 0, 1, 1, 0, 1, 0, 1, 0, 1, 1, 0, 0, 1,\n",
       "       0, 1, 0, 1, 0, 1, 0, 0, 0, 1, 1, 1, 1, 0, 1, 1, 1, 1, 0, 1, 1, 0,\n",
       "       1, 0, 1, 1, 1, 1, 1, 1, 1, 1, 0, 0, 0, 0, 1, 1, 0, 0, 1, 0, 0, 0,\n",
       "       1, 1, 1, 1, 0, 1, 0, 1, 0, 0, 1, 0, 1, 0, 0, 0, 0, 0, 0, 1, 0, 1,\n",
       "       1, 1, 1, 1, 1, 1, 1, 1, 0, 0, 1, 1, 1, 0, 1, 0, 0, 1, 1, 1, 0, 1,\n",
       "       0, 1, 0, 1, 1, 0, 0, 1, 1, 1, 1, 0, 1, 0, 0, 1, 0, 0, 0, 1, 1, 0,\n",
       "       0, 1, 0, 1, 0, 1, 1, 1, 0, 1, 1, 0, 0, 0, 1, 1, 0, 1, 1, 0, 0, 0,\n",
       "       0, 1, 0, 1, 0, 0, 1, 1, 1, 0, 1, 0, 1, 0, 0, 0, 0, 1, 1, 1, 1, 0,\n",
       "       1, 1, 1, 0, 1, 1, 0, 1, 1, 1, 0, 1, 1, 1, 1, 1, 1, 0, 1, 1, 1, 1])"
      ]
     },
     "execution_count": 53,
     "metadata": {},
     "output_type": "execute_result"
    }
   ],
   "source": [
    "import numpy as np\n",
    "\n",
    "y_predicted = np.where(y_predicted > 0.5, 1, 0)\n",
    "y_predicted"
   ]
  },
  {
   "cell_type": "code",
   "execution_count": 54,
   "id": "cc48f0c6-1ce3-4b33-841c-186e91fffa55",
   "metadata": {},
   "outputs": [
    {
     "data": {
      "text/plain": [
       "array([[157,  30],\n",
       "       [  8, 179]], dtype=int64)"
      ]
     },
     "execution_count": 54,
     "metadata": {},
     "output_type": "execute_result"
    }
   ],
   "source": [
    "from sklearn.metrics import confusion_matrix, classification_report\n",
    "\n",
    "cm = confusion_matrix(y_test, y_predicted)\n",
    "cm"
   ]
  },
  {
   "cell_type": "code",
   "execution_count": 56,
   "id": "2345b4cc-faaa-4c85-b2df-125d0aa5674e",
   "metadata": {},
   "outputs": [
    {
     "name": "stdout",
     "output_type": "stream",
     "text": [
      "Collecting seaborn\n",
      "  Using cached seaborn-0.13.2-py3-none-any.whl.metadata (5.4 kB)\n",
      "Requirement already satisfied: numpy!=1.24.0,>=1.20 in c:\\users\\al hamad\\.conda\\envs\\tf-env\\lib\\site-packages (from seaborn) (1.26.4)\n",
      "Requirement already satisfied: pandas>=1.2 in c:\\users\\al hamad\\.conda\\envs\\tf-env\\lib\\site-packages (from seaborn) (2.2.3)\n",
      "Requirement already satisfied: matplotlib!=3.6.1,>=3.4 in c:\\users\\al hamad\\.conda\\envs\\tf-env\\lib\\site-packages (from seaborn) (3.9.2)\n",
      "Requirement already satisfied: contourpy>=1.0.1 in c:\\users\\al hamad\\.conda\\envs\\tf-env\\lib\\site-packages (from matplotlib!=3.6.1,>=3.4->seaborn) (1.3.1)\n",
      "Requirement already satisfied: cycler>=0.10 in c:\\users\\al hamad\\.conda\\envs\\tf-env\\lib\\site-packages (from matplotlib!=3.6.1,>=3.4->seaborn) (0.12.1)\n",
      "Requirement already satisfied: fonttools>=4.22.0 in c:\\users\\al hamad\\.conda\\envs\\tf-env\\lib\\site-packages (from matplotlib!=3.6.1,>=3.4->seaborn) (4.55.0)\n",
      "Requirement already satisfied: kiwisolver>=1.3.1 in c:\\users\\al hamad\\.conda\\envs\\tf-env\\lib\\site-packages (from matplotlib!=3.6.1,>=3.4->seaborn) (1.4.7)\n",
      "Requirement already satisfied: packaging>=20.0 in c:\\users\\al hamad\\.conda\\envs\\tf-env\\lib\\site-packages (from matplotlib!=3.6.1,>=3.4->seaborn) (24.1)\n",
      "Requirement already satisfied: pillow>=8 in c:\\users\\al hamad\\.conda\\envs\\tf-env\\lib\\site-packages (from matplotlib!=3.6.1,>=3.4->seaborn) (11.0.0)\n",
      "Requirement already satisfied: pyparsing>=2.3.1 in c:\\users\\al hamad\\.conda\\envs\\tf-env\\lib\\site-packages (from matplotlib!=3.6.1,>=3.4->seaborn) (3.2.0)\n",
      "Requirement already satisfied: python-dateutil>=2.7 in c:\\users\\al hamad\\.conda\\envs\\tf-env\\lib\\site-packages (from matplotlib!=3.6.1,>=3.4->seaborn) (2.9.0.post0)\n",
      "Requirement already satisfied: pytz>=2020.1 in c:\\users\\al hamad\\.conda\\envs\\tf-env\\lib\\site-packages (from pandas>=1.2->seaborn) (2024.1)\n",
      "Requirement already satisfied: tzdata>=2022.7 in c:\\users\\al hamad\\.conda\\envs\\tf-env\\lib\\site-packages (from pandas>=1.2->seaborn) (2024.2)\n",
      "Requirement already satisfied: six>=1.5 in c:\\users\\al hamad\\.conda\\envs\\tf-env\\lib\\site-packages (from python-dateutil>=2.7->matplotlib!=3.6.1,>=3.4->seaborn) (1.16.0)\n",
      "Using cached seaborn-0.13.2-py3-none-any.whl (294 kB)\n",
      "Installing collected packages: seaborn\n",
      "Successfully installed seaborn-0.13.2\n"
     ]
    }
   ],
   "source": [
    "!pip install seaborn"
   ]
  },
  {
   "cell_type": "code",
   "execution_count": 57,
   "id": "492feee9-fe35-45af-9911-4da197fab019",
   "metadata": {},
   "outputs": [
    {
     "data": {
      "text/plain": [
       "Text(50.722222222222214, 0.5, 'Truth')"
      ]
     },
     "execution_count": 57,
     "metadata": {},
     "output_type": "execute_result"
    },
    {
     "data": {
      "image/png": "[encoded data removed]",
      "text/plain": [
       "<Figure size 640x480 with 2 Axes>"
      ]
     },
     "metadata": {},
     "output_type": "display_data"
    }
   ],
   "source": [
    "from matplotlib import pyplot as plt\n",
    "import seaborn as sn\n",
    "sn.heatmap(cm, annot=True, fmt='d')\n",
    "plt.xlabel('Predicted')\n",
    "plt.ylabel('Truth')"
   ]
  },
  {
   "cell_type": "code",
   "execution_count": 58,
   "id": "96b29071-2d31-4ea3-8520-463cdb0a0ec6",
   "metadata": {},
   "outputs": [
    {
     "name": "stdout",
     "output_type": "stream",
     "text": [
      "              precision    recall  f1-score   support\n",
      "\n",
      "           0       0.95      0.84      0.89       187\n",
      "           1       0.86      0.96      0.90       187\n",
      "\n",
      "    accuracy                           0.90       374\n",
      "   macro avg       0.90      0.90      0.90       374\n",
      "weighted avg       0.90      0.90      0.90       374\n",
      "\n"
     ]
    }
   ],
   "source": [
    "print(classification_report(y_test, y_predicted))"
   ]
  },
  {
   "cell_type": "markdown",
   "id": "6f37c1f7-f489-442b-8e9b-2666c98f7df6",
   "metadata": {},
   "source": [
    "**Checking Inference**"
   ]
  },
  {
   "cell_type": "code",
   "execution_count": 59,
   "id": "00c582a8-b7b6-4ced-bf73-e8eef4108ef3",
   "metadata": {},
   "outputs": [
    {
     "name": "stdout",
     "output_type": "stream",
     "text": [
      "1/1 [==============================] - 3s 3s/step\n"
     ]
    },
    {
     "data": {
      "text/plain": [
       "array([[0.8218657 ],\n",
       "       [0.9012458 ],\n",
       "       [0.8588477 ],\n",
       "       [0.30627203],\n",
       "       [0.18979858]], dtype=float32)"
      ]
     },
     "execution_count": 59,
     "metadata": {},
     "output_type": "execute_result"
    }
   ],
   "source": [
    "reviews = [\n",
    "    'Enter a chance to win $5000, hurry up, offer valid until march 31, 2021',\n",
    "    'You are awarded a SiPix Digital Camera! call 09061221061 from landline. Delivery within 28days. T Cs Box177. M221BP. 2yr warranty. 150ppm. 16 . p pÂ£3.99',\n",
    "    'it to 80488. Your 500 free text messages are valid until 31 December 2005.',\n",
    "    'Hey Sam, Are you coming for a cricket game tomorrow',\n",
    "    \"Why don't you wait 'til at least wednesday to see if you get your .\"\n",
    "]\n",
    "model.predict(reviews)"
   ]
  },
  {
   "cell_type": "code",
   "execution_count": null,
   "id": "a94e1735-eaaa-409e-9d9c-6c7fb2405db6",
   "metadata": {},
   "outputs": [],
   "source": []
  }
 ],
 "metadata": {
  "kernelspec": {
   "display_name": "Python 3 (ipykernel)",
   "language": "python",
   "name": "python3"
  },
  "language_info": {
   "codemirror_mode": {
    "name": "ipython",
    "version": 3
   },
   "file_extension": ".py",
   "mimetype": "text/x-python",
   "name": "python",
   "nbconvert_exporter": "python",
   "pygments_lexer": "ipython3",
   "version": "3.10.13"
  }
 },
 "nbformat": 4,
 "nbformat_minor": 5
}
